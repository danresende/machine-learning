{
 "cells": [
  {
   "cell_type": "markdown",
   "metadata": {
    "deletable": true,
    "editable": true
   },
   "source": [
    "# The Street View House Numbers (SVHN) Dataset\n",
    "\n",
    "SVHN is a real-world image dataset for developing machine learning and object recognition algorithms with minimal requirement on data preprocessing and formatting. It can be seen as similar in flavor to MNIST (e.g., the images are of small cropped digits), but incorporates an order of magnitude more labeled data (over 600,000 digit images) and comes from a significantly harder, unsolved, real world problem (recognizing digits and numbers in natural scene images). SVHN is obtained from house numbers in Google Street View images. The dataset and more information can be founded [`here`](http://ufldl.stanford.edu/housenumbers/)."
   ]
  },
  {
   "cell_type": "markdown",
   "metadata": {
    "deletable": true,
    "editable": true
   },
   "source": [
    "## Loading data and libraries"
   ]
  },
  {
   "cell_type": "code",
   "execution_count": 1,
   "metadata": {
    "collapsed": false,
    "deletable": true,
    "editable": true
   },
   "outputs": [
    {
     "name": "stdout",
     "output_type": "stream",
     "text": [
      "Requirement already satisfied: tqdm in /Users/danielcmresende/miniconda3/envs/mlcap/lib/python3.6/site-packages\r\n"
     ]
    }
   ],
   "source": [
    "!pip install tqdm"
   ]
  },
  {
   "cell_type": "code",
   "execution_count": 2,
   "metadata": {
    "collapsed": false,
    "deletable": true,
    "editable": true
   },
   "outputs": [
    {
     "name": "stdout",
     "output_type": "stream",
     "text": [
      "Data loaded!\n"
     ]
    }
   ],
   "source": [
    "import numpy as np\n",
    "import matplotlib.pyplot as plt\n",
    "import tensorflow as tf\n",
    "from tqdm import tqdm\n",
    "from urllib.request import urlretrieve\n",
    "from os.path import isfile\n",
    "from scipy.io import loadmat\n",
    "from sklearn.model_selection import train_test_split\n",
    "\n",
    "%matplotlib inline\n",
    "tf.reset_default_graph()\n",
    "\n",
    "class DLProgress(tqdm):\n",
    "    last_block = 0\n",
    "\n",
    "    def hook(self, block_num=1, block_size=1, total_size=None):\n",
    "        self.total = total_size\n",
    "        self.update((block_num - self.last_block) * block_size)\n",
    "        self.last_block = block_num\n",
    "\n",
    "if not isfile('../data/train_32x32.mat'):\n",
    "    with DLProgress(unit='B', unit_scale=True, miniters=1, desc='SVHN Dataset') as pbar:\n",
    "        urlretrieve(\n",
    "            'http://ufldl.stanford.edu/housenumbers/train_32x32.mat',\n",
    "            '../data/train_32x32.mat',\n",
    "            pbar.hook)\n",
    "\n",
    "svhn_data = loadmat('../data/train_32x32.mat')\n",
    "print('Data loaded!')"
   ]
  },
  {
   "cell_type": "markdown",
   "metadata": {
    "deletable": true,
    "editable": true
   },
   "source": [
    "## Understanding the dataset"
   ]
  },
  {
   "cell_type": "code",
   "execution_count": 3,
   "metadata": {
    "collapsed": false,
    "deletable": true,
    "editable": true
   },
   "outputs": [
    {
     "name": "stdout",
     "output_type": "stream",
     "text": [
      "<class 'dict'>\n",
      "dict_keys(['__header__', '__version__', '__globals__', 'X', 'y'])\n"
     ]
    }
   ],
   "source": [
    "print(type(svhn_data))\n",
    "print(svhn_data.keys())"
   ]
  },
  {
   "cell_type": "code",
   "execution_count": 4,
   "metadata": {
    "collapsed": false,
    "deletable": true,
    "editable": true
   },
   "outputs": [
    {
     "name": "stdout",
     "output_type": "stream",
     "text": [
      "X: 73257 (32 x 32 x 3) images\n",
      "y: 73257 (1) labels\n",
      "First 30 labels: [[1 9 2 3 2 5 9 3 3 1 3 3 2 8 7 4 4 1 2 8 1 6 2 3 6 3 4 2 5 8]]\n",
      "Label Counts: {1: 13861, 2: 10585, 3: 8497, 4: 7458, 5: 6882, 6: 5727, 7: 5595, 8: 5045, 9: 4659, 10: 4948}\n"
     ]
    }
   ],
   "source": [
    "features = svhn_data['X']\n",
    "labels = svhn_data['y']\n",
    "\n",
    "print('X: {} ({} x {} x {}) images'.format(features.shape[3], features.shape[0],\n",
    "                                           features.shape[1], features.shape[2]))\n",
    "print('y: {} ({}) labels'.format(labels.shape[0], labels.shape[1]))\n",
    "print('First 30 labels: {}'.format(labels[:30].reshape((1,-1))))\n",
    "print('Label Counts: {}'.format(dict(zip(*np.unique(labels, return_counts=True)))))"
   ]
  },
  {
   "cell_type": "code",
   "execution_count": 10,
   "metadata": {
    "collapsed": false,
    "deletable": true,
    "editable": true
   },
   "outputs": [
    {
     "data": {
      "image/png": "[encoded data removed]",
      "text/plain": [
       "<matplotlib.figure.Figure at 0x130201c50>"
      ]
     },
     "metadata": {},
     "output_type": "display_data"
    }
   ],
   "source": [
    "def display_sample_images(features, labels, n, normalized=False):\n",
    "    fig = plt.figure(figsize=(16, 16))\n",
    "    for i in range(n):\n",
    "        plt.subplot(1,n,i + 1)\n",
    "        image_num = np.random.randint(0, high=len(labels))\n",
    "        if normalized:\n",
    "            sample_image = features[image_num]\n",
    "        else:\n",
    "            sample_image = features[:,:,:,image_num]\n",
    "        sample_label = labels[image_num]\n",
    "        plt.axis('off')\n",
    "        plt.title('Label: {}\\nFormat: {}\\nMin: {:.2f} | Max: {:.2f}'.format(sample_label,\n",
    "                                                                    sample_image.shape,\n",
    "                                                                    sample_image.min(),\n",
    "                                                                    sample_image.max()))\n",
    "        plt.imshow(sample_image)\n",
    "    plt.show()\n",
    "\n",
    "display_sample_images(features, labels, 4)"
   ]
  },
  {
   "cell_type": "markdown",
   "metadata": {
    "deletable": true,
    "editable": true
   },
   "source": [
    "## Preprocessing"
   ]
  },
  {
   "cell_type": "markdown",
   "metadata": {
    "deletable": true,
    "editable": true
   },
   "source": [
    "### Normalize"
   ]
  },
  {
   "cell_type": "code",
   "execution_count": 11,
   "metadata": {
    "collapsed": false,
    "deletable": true,
    "editable": true
   },
   "outputs": [
    {
     "data": {
      "text/plain": [
       "(73257, 32, 32, 3)"
      ]
     },
     "execution_count": 11,
     "metadata": {},
     "output_type": "execute_result"
    }
   ],
   "source": [
    "def normalize(x):\n",
    "    \"\"\"\n",
    "    Normalize a list of sample image data in the range of 0 to 1\n",
    "    : x: List of image data.  The image shape is (32, 32, 3)\n",
    "    : return: Numpy array of normalize data\n",
    "    \"\"\"\n",
    "    n = x.shape[3]\n",
    "    result = []\n",
    "    for i in range(n):\n",
    "        result.append(x[:,:,:,i] / 255.0)\n",
    "    return np.array(result)\n",
    "\n",
    "features = normalize(features)\n",
    "features.shape"
   ]
  },
  {
   "cell_type": "markdown",
   "metadata": {
    "deletable": true,
    "editable": true
   },
   "source": [
    "### One-hot encode"
   ]
  },
  {
   "cell_type": "code",
   "execution_count": 12,
   "metadata": {
    "collapsed": false,
    "deletable": true,
    "editable": true
   },
   "outputs": [
    {
     "data": {
      "text/plain": [
       "(73257, 10)"
      ]
     },
     "execution_count": 12,
     "metadata": {},
     "output_type": "execute_result"
    }
   ],
   "source": [
    "def one_hot_encode(x):\n",
    "    \"\"\"\n",
    "    One hot encode a list of sample labels. Return a one-hot encoded vector for each label.\n",
    "    : x: List of sample Labels\n",
    "    : return: Numpy array of one-hot encoded labels\n",
    "    \"\"\"\n",
    "    result = []\n",
    "    for i in range(len(x)):\n",
    "        result.append([1 if x[i] == j + 1 else 0 for j in range(10)])\n",
    "    return np.array(result)\n",
    "\n",
    "labels = one_hot_encode(labels)\n",
    "labels.shape"
   ]
  },
  {
   "cell_type": "markdown",
   "metadata": {
    "deletable": true,
    "editable": true
   },
   "source": [
    "### Split train and test set"
   ]
  },
  {
   "cell_type": "code",
   "execution_count": 13,
   "metadata": {
    "collapsed": false,
    "deletable": true,
    "editable": true
   },
   "outputs": [
    {
     "name": "stdout",
     "output_type": "stream",
     "text": [
      "Train features: (54942, 32, 32, 3), train labels: (54942, 10)\n",
      "Test features: (18315, 32, 32, 3), test labels: (18315, 10)\n"
     ]
    }
   ],
   "source": [
    "X_train, X_test, y_train, y_test = train_test_split(features, labels, test_size=0.25, random_state=0)\n",
    "\n",
    "print('Train features: {}, train labels: {}'.format(X_train.shape, y_train.shape))\n",
    "print('Test features: {}, test labels: {}'.format(X_test.shape, y_test.shape))"
   ]
  },
  {
   "cell_type": "markdown",
   "metadata": {
    "deletable": true,
    "editable": true
   },
   "source": [
    "### Sanity check"
   ]
  },
  {
   "cell_type": "code",
   "execution_count": 14,
   "metadata": {
    "collapsed": false,
    "deletable": true,
    "editable": true
   },
   "outputs": [
    {
     "name": "stdout",
     "output_type": "stream",
     "text": [
      "\n",
      "Train set:\n"
     ]
    },
    {
     "data": {
      "image/png": "[encoded data removed]",
      "text/plain": [
       "<matplotlib.figure.Figure at 0x130c69128>"
      ]
     },
     "metadata": {},
     "output_type": "display_data"
    },
    {
     "name": "stdout",
     "output_type": "stream",
     "text": [
      "\n",
      "Test set:\n"
     ]
    },
    {
     "data": {
      "image/png": "[encoded data removed]",
      "text/plain": [
       "<matplotlib.figure.Figure at 0x130b328d0>"
      ]
     },
     "metadata": {},
     "output_type": "display_data"
    }
   ],
   "source": [
    "print('\\nTrain set:')\n",
    "display_sample_images(X_train, y_train, 4, normalized=True)\n",
    "\n",
    "print('\\nTest set:')\n",
    "display_sample_images(X_test, y_test, 4, normalized=True)"
   ]
  },
  {
   "cell_type": "markdown",
   "metadata": {
    "deletable": true,
    "editable": true
   },
   "source": [
    "## Building the Neural Net"
   ]
  },
  {
   "cell_type": "markdown",
   "metadata": {
    "deletable": true,
    "editable": true
   },
   "source": [
    "### Building nodes, weights, biases"
   ]
  },
  {
   "cell_type": "code",
   "execution_count": 15,
   "metadata": {
    "collapsed": false,
    "deletable": true,
    "editable": true
   },
   "outputs": [],
   "source": [
    "def conv2d(x_tensor, conv_num_outputs, conv_ksize, conv_strides, scope='conv'):\n",
    "    \n",
    "    with tf.variable_scope(scope):\n",
    "        # Dimension parameters\n",
    "        input_depth    = x_tensor.get_shape().as_list()[3]\n",
    "        conv_height    = conv_ksize[0]\n",
    "        conv_width     = conv_ksize[1]\n",
    "        strides_height = conv_strides[0]\n",
    "        strides_width  = conv_strides[1]\n",
    "        padding        = 'SAME'\n",
    "        \n",
    "        # Initiate weights and biases\n",
    "        W = tf.Variable(tf.random_normal([conv_height, conv_width, input_depth, conv_num_outputs], stddev=0.1))\n",
    "        b = tf.Variable(tf.random_normal([conv_num_outputs], stddev=0.1))\n",
    "        \n",
    "        # Draw convnet\n",
    "        output = tf.nn.conv2d(x_tensor, W, [1, strides_height, strides_width, 1], padding)\n",
    "        output = tf.nn.bias_add(output, b)\n",
    "        output = tf.nn.relu(output)\n",
    "        \n",
    "        return output"
   ]
  },
  {
   "cell_type": "code",
   "execution_count": 21,
   "metadata": {
    "collapsed": true
   },
   "outputs": [],
   "source": [
    "def maxpool(x_tensor, pool_ksize, pool_strides, scope='pool'):\n",
    "    \n",
    "    with tf.variable_scope(scope):\n",
    "        # Max pool parameters\n",
    "        pool_height    = pool_ksize[0]\n",
    "        pool_width     = pool_ksize[1]\n",
    "        pool_strides_h = pool_strides[0]\n",
    "        pool_strides_w = pool_strides[1]\n",
    "        padding        = 'SAME'\n",
    "        \n",
    "        # Maxpool\n",
    "        output = tf.nn.max_pool(x_tensor,\n",
    "                                ksize=[1, pool_height, pool_width, 1],\n",
    "                                strides=[1, pool_strides_h, pool_strides_w, 1],\n",
    "                                padding=padding)\n",
    "        \n",
    "        return output"
   ]
  },
  {
   "cell_type": "code",
   "execution_count": 17,
   "metadata": {
    "collapsed": true,
    "deletable": true,
    "editable": true
   },
   "outputs": [],
   "source": [
    "def flatten(x_tensor, scope='flat'):\n",
    "    \n",
    "    with tf.variable_scope(scope):\n",
    "        height = x_tensor.get_shape().as_list()[1]\n",
    "        width  = x_tensor.get_shape().as_list()[2]\n",
    "        depth  = x_tensor.get_shape().as_list()[3]\n",
    "        return tf.reshape(x_tensor,[-1, height * width * depth])"
   ]
  },
  {
   "cell_type": "code",
   "execution_count": 18,
   "metadata": {
    "collapsed": true,
    "deletable": true,
    "editable": true
   },
   "outputs": [],
   "source": [
    "def fully_conn(x_tensor, num_outputs, keep_prob=None, scope='fc'):\n",
    "    \n",
    "    with tf.variable_scope(scope):\n",
    "        W = tf.Variable(tf.random_normal([x_tensor.get_shape().as_list()[1], num_outputs], stddev=0.1))\n",
    "        b = tf.Variable(tf.zeros([num_outputs]))\n",
    "        fc = tf.nn.relu(tf.matmul(x_tensor, W) + b)\n",
    "        if keep_prob is not None:\n",
    "            fc = tf.nn.dropout(fc, keep_prob)\n",
    "        return fc"
   ]
  },
  {
   "cell_type": "code",
   "execution_count": 19,
   "metadata": {
    "collapsed": true,
    "deletable": true,
    "editable": true
   },
   "outputs": [],
   "source": [
    "def output(x_tensor, num_outputs, scope='output'):\n",
    "    with tf.variable_scope(scope):\n",
    "        W = tf.Variable(tf.random_normal([x_tensor.get_shape().as_list()[1], num_outputs], stddev=0.1))\n",
    "        b = tf.Variable(tf.zeros([num_outputs]))\n",
    "        return tf.matmul(x_tensor, W) + b"
   ]
  },
  {
   "cell_type": "markdown",
   "metadata": {
    "deletable": true,
    "editable": true
   },
   "source": [
    "### Neural Net layout"
   ]
  },
  {
   "cell_type": "code",
   "execution_count": 22,
   "metadata": {
    "collapsed": false,
    "deletable": true,
    "editable": true
   },
   "outputs": [],
   "source": [
    "x = tf.placeholder(tf.float32, (None, features.shape[1], features.shape[2], features.shape[3]), 'x')\n",
    "y = tf.placeholder(tf.float32, (None, labels.shape[1]), 'y')\n",
    "keep_prob = tf.placeholder(tf.float32, name='keep_prob')\n",
    "\n",
    "# VGG16 architecture\n",
    "\n",
    "# 1st conv layer\n",
    "conv = conv2d(x,64,(3, 3),(1, 1), scope='conv1_1')\n",
    "conv = conv2d(conv,64,(3, 3),(1, 1), scope='conv1_2')\n",
    "conv = maxpool(conv,(2, 2),(2, 2), 'pool1')\n",
    "\n",
    "# 2nd conv layer\n",
    "conv = conv2d(conv,128,(3, 3),(1, 1), scope='conv2_1')\n",
    "conv = conv2d(conv,128,(3, 3),(1, 1), scope='conv2_2')\n",
    "conv = maxpool(conv,(2, 2),(2, 2), 'pool2')\n",
    "\n",
    "# 3rd conv layer\n",
    "conv = conv2d(conv,256,(3, 3),(1, 1), scope='conv3_1')\n",
    "conv = conv2d(conv,256,(3, 3),(1, 1), scope='conv3_2')\n",
    "conv = conv2d(conv,256,(3, 3),(1, 1), scope='conv3_3')\n",
    "conv = maxpool(conv,(2, 2),(2, 2), 'pool3')\n",
    "\n",
    "# 3rd conv layer\n",
    "conv = conv2d(conv,512,(3, 3),(1, 1), scope='conv4_1')\n",
    "conv = conv2d(conv,512,(3, 3),(1, 1), scope='conv4_2')\n",
    "conv = conv2d(conv,512,(3, 3),(1, 1), scope='conv4_3')\n",
    "conv = maxpool(conv,(2, 2),(2, 2), 'pool4')\n",
    "\n",
    "# 3rd conv layer\n",
    "conv = conv2d(conv,512,(3, 3),(1, 1), scope='conv5_1')\n",
    "conv = conv2d(conv,512,(3, 3),(1, 1), scope='conv5_2')\n",
    "conv = conv2d(conv,512,(3, 3),(1, 1), scope='conv5_3')\n",
    "conv = maxpool(conv,(2, 2),(2, 2), 'pool5')\n",
    "\n",
    "# Fully connected layer\n",
    "flat = flatten(conv, scope='flat')\n",
    "fc   = fully_conn(flat, 4096, keep_prob=keep_prob, scope='fc1')\n",
    "fc   = fully_conn(fc, 4096, keep_prob=keep_prob, scope='fc2')\n",
    "\n",
    "# Logits output\n",
    "logits = output(fc, labels.shape[1], scope='output')"
   ]
  },
  {
   "cell_type": "markdown",
   "metadata": {
    "deletable": true,
    "editable": true
   },
   "source": [
    "### Loss and optimizer"
   ]
  },
  {
   "cell_type": "code",
   "execution_count": 15,
   "metadata": {
    "collapsed": false,
    "deletable": true,
    "editable": true
   },
   "outputs": [],
   "source": [
    "cost = tf.reduce_mean(tf.nn.softmax_cross_entropy_with_logits(logits=logits, labels=y))\n",
    "optimizer = tf.train.AdamOptimizer().minimize(cost)"
   ]
  },
  {
   "cell_type": "markdown",
   "metadata": {
    "deletable": true,
    "editable": true
   },
   "source": [
    "### Accuracy"
   ]
  },
  {
   "cell_type": "code",
   "execution_count": 16,
   "metadata": {
    "collapsed": false,
    "deletable": true,
    "editable": true
   },
   "outputs": [],
   "source": [
    "prediction = tf.argmax(logits, 1) + 1\n",
    "correct_pred = tf.equal(prediction,(tf.argmax(y, 1) + 1))\n",
    "accuracy = tf.reduce_mean(tf.cast(correct_pred, tf.float32), name='accuracy')"
   ]
  },
  {
   "cell_type": "markdown",
   "metadata": {
    "collapsed": true,
    "deletable": true,
    "editable": true
   },
   "source": [
    "## Training the neural net"
   ]
  },
  {
   "cell_type": "code",
   "execution_count": 17,
   "metadata": {
    "collapsed": true,
    "deletable": true,
    "editable": true
   },
   "outputs": [],
   "source": [
    "epochs = 50\n",
    "batch_size = 1024\n",
    "val_size = 0.1\n",
    "train_keep_prob = 0.5\n",
    "display_step = 10"
   ]
  },
  {
   "cell_type": "code",
   "execution_count": 18,
   "metadata": {
    "collapsed": false,
    "deletable": true,
    "editable": true
   },
   "outputs": [],
   "source": [
    "def batch_creator(features, labels, batch_size, val_size=None):\n",
    "    for start in range(0, len(features), batch_size):\n",
    "        end = min(start + batch_size, len(features))\n",
    "        if val_size is not None:\n",
    "            feat_batch_train, feat_batch_val, lab_batch_train, lab_batch_val = train_test_split(features[start:end],\n",
    "                                                                                                labels[start:end],\n",
    "                                                                                                test_size=val_size,\n",
    "                                                                                                random_state=0)\n",
    "            yield feat_batch_train, feat_batch_val, lab_batch_train, lab_batch_val\n",
    "        else:\n",
    "            yield features[start:end], labels[start:end]"
   ]
  },
  {
   "cell_type": "code",
   "execution_count": 33,
   "metadata": {
    "collapsed": false,
    "deletable": true,
    "editable": true
   },
   "outputs": [
    {
     "name": "stdout",
     "output_type": "stream",
     "text": [
      "Epoch    0/  49|Interaction    54 => loss:    2.1440 | train: 0.2489 | val: 0.2731\n",
      "Epoch   10/  49|Interaction   594 => loss:    0.3366 | train: 0.8992 | val: 0.8519\n",
      "Epoch   20/  49|Interaction  1134 => loss:    0.1916 | train: 0.9385 | val: 0.8620\n",
      "Epoch   30/  49|Interaction  1674 => loss:    0.1414 | train: 0.9572 | val: 0.8818\n",
      "Epoch   40/  49|Interaction  2214 => loss:    0.0756 | train: 0.9741 | val: 0.8783\n",
      "Epoch   49/  49|Interaction  2700 => loss:    0.0448 | train: 0.9859 | val: 0.8973\n"
     ]
    },
    {
     "data": {
      "image/png": "[encoded data removed]",
      "text/plain": [
       "<matplotlib.figure.Figure at 0x7f5d3f1d8f60>"
      ]
     },
     "metadata": {},
     "output_type": "display_data"
    }
   ],
   "source": [
    "init = tf.global_variables_initializer()\n",
    "\n",
    "train_acc_results = []\n",
    "val_acc_results = []\n",
    "images_samples = []\n",
    "train_acc_mean = 0\n",
    "val_acc_mean = 0\n",
    "with tf.Session() as sess:\n",
    "    sess.run(init)\n",
    "    iteration = 0\n",
    "    for epoch in range(epochs):\n",
    "        for X_batch_train, X_batch_val, y_batch_train, y_batch_val in batch_creator(X_train, y_train, batch_size, val_size):\n",
    "            train_feed_dict = {x: X_batch_train,\n",
    "                               y: y_batch_train,\n",
    "                               keep_prob: train_keep_prob\n",
    "                              }\n",
    "            sess.run(optimizer, feed_dict=train_feed_dict)\n",
    "            loss = sess.run(cost, feed_dict=train_feed_dict)\n",
    "            train_acc = sess.run(accuracy, feed_dict=train_feed_dict)\n",
    "            train_acc_mean += train_acc\n",
    "            train_acc_mean = train_acc_mean / 2\n",
    "            \n",
    "            val_feed_dict = {x: X_batch_val,\n",
    "                             y: y_batch_val,\n",
    "                             keep_prob: 1.0\n",
    "                            }\n",
    "            val_acc = sess.run(accuracy, feed_dict=val_feed_dict)\n",
    "            val_acc_mean += val_acc\n",
    "            val_acc_mean = val_acc_mean / 2\n",
    "            iteration += 1\n",
    "        train_acc_results.append(train_acc_mean)\n",
    "        val_acc_results.append(val_acc_mean)\n",
    "        if epoch % display_step == 0 or epoch + 1 == epochs:\n",
    "            print('Epoch {:4d}/{:4d}|Interaction {:5d} => \\\n",
    "loss:{:10.4f} | train: {:.4f} | val: {:.4f}'.format(epoch, epochs - 1, iteration,\n",
    "                                                    loss, train_acc_mean, val_acc_mean))\n",
    "    rand_image = np.random.randint(0, high=len(X_train))\n",
    "    sample_image = X_train[rand_image]\n",
    "    plt.axis('off')\n",
    "    plt.imshow(sample_image)\n",
    "    plt.title('Sanity Check - Prediction on training data\\nPrediction: {} | True: {}'.format(sess.run(prediction,\n",
    "                                                                        feed_dict={x:X_train[rand_image].reshape((-1, 32, 32, 3)),\n",
    "                                                                                   keep_prob:1.0\n",
    "                                                                                  }),\n",
    "                                                               np.where(y_train[rand_image] == 1)[0] + 1))\n",
    "    plt.show()"
   ]
  },
  {
   "cell_type": "code",
   "execution_count": 34,
   "metadata": {
    "collapsed": false,
    "deletable": true,
    "editable": true
   },
   "outputs": [
    {
     "data": {
      "image/png": "[encoded data removed]",
      "text/plain": [
       "<matplotlib.figure.Figure at 0x7f5d3f16c6a0>"
      ]
     },
     "metadata": {},
     "output_type": "display_data"
    }
   ],
   "source": [
    "plt.plot(range(len(train_acc_results)), val_acc_results, label='Validation')\n",
    "plt.plot(range(len(train_acc_results)), train_acc_results, label='Train')\n",
    "plt.title('Train and Validation accuracy')\n",
    "plt.legend()\n",
    "plt.show()"
   ]
  },
  {
   "cell_type": "code",
   "execution_count": 40,
   "metadata": {
    "collapsed": false,
    "deletable": true,
    "editable": true
   },
   "outputs": [
    {
     "data": {
      "image/png": "[encoded data removed]",
      "text/plain": [
       "<matplotlib.figure.Figure at 0x7f5d3f1b0c50>"
      ]
     },
     "metadata": {},
     "output_type": "display_data"
    }
   ],
   "source": [
    "size_test_sample = 1000\n",
    "test_acc_mean = 0\n",
    "with tf.Session() as sess:\n",
    "    sess.run(init)\n",
    "    for X_batch_test, y_batch_test in batch_creator(features, labels, batch_size):\n",
    "        feed = {x: X_batch_test,\n",
    "                y: y_batch_test,\n",
    "                keep_prob: 1.0\n",
    "               }\n",
    "        test_acc = sess.run(accuracy, feed_dict=feed)\n",
    "        test_acc_mean += val_acc\n",
    "        test_acc_mean = val_acc_mean / 2\n",
    "    \n",
    "    rand_image = np.random.randint(0, high=len(X_test))\n",
    "    sample_image = X_test[rand_image]\n",
    "    plt.axis('off')\n",
    "    plt.imshow(sample_image)\n",
    "    plt.title('Test accuracy: {:.4f}\\nPrediction: {} | True: {}'.format(test_acc_mean,\n",
    "                                                                    sess.run(prediction,\n",
    "                                                                             feed_dict={x:X_test[rand_image].reshape((-1, 32, 32, 3)),\n",
    "                                                                                        keep_prob:1.0\n",
    "                                                                                       }),\n",
    "                                                                    np.where(y_test[rand_image] == 1)[0] + 1))\n",
    "    plt.show()"
   ]
  },
  {
   "cell_type": "code",
   "execution_count": null,
   "metadata": {
    "collapsed": true,
    "deletable": true,
    "editable": true
   },
   "outputs": [],
   "source": []
  }
 ],
 "metadata": {
  "kernelspec": {
   "display_name": "Python 3",
   "language": "python",
   "name": "python3"
  },
  "language_info": {
   "codemirror_mode": {
    "name": "ipython",
    "version": 3
   },
   "file_extension": ".py",
   "mimetype": "text/x-python",
   "name": "python",
   "nbconvert_exporter": "python",
   "pygments_lexer": "ipython3",
   "version": "3.6.0"
  }
 },
 "nbformat": 4,
 "nbformat_minor": 2
}
