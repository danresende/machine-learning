{
 "cells": [
  {
   "cell_type": "markdown",
   "metadata": {
    "deletable": true,
    "editable": true
   },
   "source": [
    "# The Street View House Numbers (SVHN) Dataset\n",
    "\n",
    "SVHN is a real-world image dataset for developing machine learning and object recognition algorithms with minimal requirement on data preprocessing and formatting. It can be seen as similar in flavor to MNIST (e.g., the images are of small cropped digits), but incorporates an order of magnitude more labeled data (over 600,000 digit images) and comes from a significantly harder, unsolved, real world problem (recognizing digits and numbers in natural scene images). SVHN is obtained from house numbers in Google Street View images. The dataset and more information can be founded [`here`](http://ufldl.stanford.edu/housenumbers/)."
   ]
  },
  {
   "cell_type": "markdown",
   "metadata": {
    "deletable": true,
    "editable": true
   },
   "source": [
    "## Loading data and libraries"
   ]
  },
  {
   "cell_type": "code",
   "execution_count": 60,
   "metadata": {
    "collapsed": false,
    "deletable": true,
    "editable": true
   },
   "outputs": [
    {
     "name": "stdout",
     "output_type": "stream",
     "text": [
      "Requirement already satisfied: tqdm in /home/carnd/anaconda3/envs/dl/lib/python3.5/site-packages\r\n"
     ]
    }
   ],
   "source": [
    "!pip install tqdm"
   ]
  },
  {
   "cell_type": "code",
   "execution_count": 61,
   "metadata": {
    "collapsed": true,
    "deletable": true,
    "editable": true
   },
   "outputs": [],
   "source": [
    "import time\n",
    "import numpy as np\n",
    "import matplotlib.pyplot as plt\n",
    "import tensorflow as tf\n",
    "from tqdm import tqdm\n",
    "from urllib.request import urlretrieve\n",
    "from os.path import isfile\n",
    "from scipy.io import loadmat\n",
    "from sklearn.model_selection import train_test_split\n",
    "\n",
    "%matplotlib inline\n",
    "tf.reset_default_graph()"
   ]
  },
  {
   "cell_type": "code",
   "execution_count": 109,
   "metadata": {
    "collapsed": false,
    "deletable": true,
    "editable": true
   },
   "outputs": [
    {
     "name": "stdout",
     "output_type": "stream",
     "text": [
      "Data loaded!\n"
     ]
    }
   ],
   "source": [
    "class DLProgress(tqdm):\n",
    "    last_block = 0\n",
    "\n",
    "    def hook(self, block_num=1, block_size=1, total_size=None):\n",
    "        self.total = total_size\n",
    "        self.update((block_num - self.last_block) * block_size)\n",
    "        self.last_block = block_num\n",
    "\n",
    "if not isfile('../data/train_32x32.mat'):\n",
    "    with DLProgress(unit='B', unit_scale=True, miniters=1, desc='SVHN Dataset') as pbar:\n",
    "        urlretrieve(\n",
    "            'http://ufldl.stanford.edu/housenumbers/train_32x32.mat',\n",
    "            '../data/train_32x32.mat',\n",
    "            pbar.hook)\n",
    "\n",
    "svhn_data = loadmat('../data/train_32x32.mat')\n",
    "print('Data loaded!')"
   ]
  },
  {
   "cell_type": "markdown",
   "metadata": {
    "deletable": true,
    "editable": true
   },
   "source": [
    "## Understanding the dataset"
   ]
  },
  {
   "cell_type": "code",
   "execution_count": 110,
   "metadata": {
    "collapsed": false,
    "deletable": true,
    "editable": true
   },
   "outputs": [
    {
     "name": "stdout",
     "output_type": "stream",
     "text": [
      "<class 'dict'>\n",
      "dict_keys(['X', '__globals__', '__version__', 'y', '__header__'])\n"
     ]
    }
   ],
   "source": [
    "print(type(svhn_data))\n",
    "print(svhn_data.keys())"
   ]
  },
  {
   "cell_type": "code",
   "execution_count": 111,
   "metadata": {
    "collapsed": false,
    "deletable": true,
    "editable": true
   },
   "outputs": [
    {
     "name": "stdout",
     "output_type": "stream",
     "text": [
      "X: 73257 (32 x 32 x 3) images\n",
      "y: 73257 (1) labels\n",
      "First 30 labels: [[1 9 2 3 2 5 9 3 3 1 3 3 2 8 7 4 4 1 2 8 1 6 2 3 6 3 4 2 5 8]]\n",
      "Label Counts: {1: 13861, 2: 10585, 3: 8497, 4: 7458, 5: 6882, 6: 5727, 7: 5595, 8: 5045, 9: 4659, 10: 4948}\n"
     ]
    }
   ],
   "source": [
    "features = svhn_data['X']\n",
    "labels = svhn_data['y']\n",
    "\n",
    "print('X: {} ({} x {} x {}) images'.format(features.shape[3], features.shape[0],\n",
    "                                           features.shape[1], features.shape[2]))\n",
    "print('y: {} ({}) labels'.format(labels.shape[0], labels.shape[1]))\n",
    "print('First 30 labels: {}'.format(labels[:30].reshape((1,-1))))\n",
    "print('Label Counts: {}'.format(dict(zip(*np.unique(labels, return_counts=True)))))"
   ]
  },
  {
   "cell_type": "code",
   "execution_count": 118,
   "metadata": {
    "collapsed": false,
    "deletable": true,
    "editable": true
   },
   "outputs": [
    {
     "ename": "IndexError",
     "evalue": "index 35178 is out of bounds for axis 3 with size 3",
     "output_type": "error",
     "traceback": [
      "\u001b[0;31m---------------------------------------------------------------------------\u001b[0m",
      "\u001b[0;31mIndexError\u001b[0m                                Traceback (most recent call last)",
      "\u001b[0;32m<ipython-input-118-78f97fc9010e>\u001b[0m in \u001b[0;36m<module>\u001b[0;34m()\u001b[0m\n\u001b[1;32m     17\u001b[0m     \u001b[0mplt\u001b[0m\u001b[0;34m.\u001b[0m\u001b[0mshow\u001b[0m\u001b[0;34m(\u001b[0m\u001b[0;34m)\u001b[0m\u001b[0;34m\u001b[0m\u001b[0m\n\u001b[1;32m     18\u001b[0m \u001b[0;34m\u001b[0m\u001b[0m\n\u001b[0;32m---> 19\u001b[0;31m \u001b[0mdisplay_sample_images\u001b[0m\u001b[0;34m(\u001b[0m\u001b[0mfeatures\u001b[0m\u001b[0;34m,\u001b[0m \u001b[0mlabels\u001b[0m\u001b[0;34m,\u001b[0m \u001b[0;36m4\u001b[0m\u001b[0;34m)\u001b[0m\u001b[0;34m\u001b[0m\u001b[0m\n\u001b[0m",
      "\u001b[0;32m<ipython-input-118-78f97fc9010e>\u001b[0m in \u001b[0;36mdisplay_sample_images\u001b[0;34m(features, labels, n, normalized)\u001b[0m\n\u001b[1;32m      7\u001b[0m             \u001b[0msample_image\u001b[0m \u001b[0;34m=\u001b[0m \u001b[0mfeatures\u001b[0m\u001b[0;34m[\u001b[0m\u001b[0mimage_num\u001b[0m\u001b[0;34m]\u001b[0m \u001b[0;31m#np.squeeze(features[image_num], axis=2)\u001b[0m\u001b[0;34m\u001b[0m\u001b[0m\n\u001b[1;32m      8\u001b[0m         \u001b[0;32melse\u001b[0m\u001b[0;34m:\u001b[0m\u001b[0;34m\u001b[0m\u001b[0m\n\u001b[0;32m----> 9\u001b[0;31m             \u001b[0msample_image\u001b[0m \u001b[0;34m=\u001b[0m \u001b[0mfeatures\u001b[0m\u001b[0;34m[\u001b[0m\u001b[0;34m:\u001b[0m\u001b[0;34m,\u001b[0m\u001b[0;34m:\u001b[0m\u001b[0;34m,\u001b[0m\u001b[0;34m:\u001b[0m\u001b[0;34m,\u001b[0m\u001b[0mimage_num\u001b[0m\u001b[0;34m]\u001b[0m\u001b[0;34m\u001b[0m\u001b[0m\n\u001b[0m\u001b[1;32m     10\u001b[0m         \u001b[0msample_label\u001b[0m \u001b[0;34m=\u001b[0m \u001b[0mlabels\u001b[0m\u001b[0;34m[\u001b[0m\u001b[0mimage_num\u001b[0m\u001b[0;34m]\u001b[0m\u001b[0;34m\u001b[0m\u001b[0m\n\u001b[1;32m     11\u001b[0m         \u001b[0mplt\u001b[0m\u001b[0;34m.\u001b[0m\u001b[0maxis\u001b[0m\u001b[0;34m(\u001b[0m\u001b[0;34m'off'\u001b[0m\u001b[0;34m)\u001b[0m\u001b[0;34m\u001b[0m\u001b[0m\n",
      "\u001b[0;31mIndexError\u001b[0m: index 35178 is out of bounds for axis 3 with size 3"
     ]
    },
    {
     "data": {
      "image/png": "[encoded data removed]",
      "text/plain": [
       "<matplotlib.figure.Figure at 0x7f79eb8e8ba8>"
      ]
     },
     "metadata": {},
     "output_type": "display_data"
    }
   ],
   "source": [
    "def display_sample_images(features, labels, n, normalized=False):\n",
    "    fig = plt.figure(figsize=(16, 16))\n",
    "    for i in range(n):\n",
    "        plt.subplot(1,n,i + 1)\n",
    "        image_num = np.random.randint(0, high=len(labels))\n",
    "        if normalized:\n",
    "            sample_image = features[image_num] #np.squeeze(features[image_num], axis=2)\n",
    "        else:\n",
    "            sample_image = features[:,:,:,image_num]\n",
    "        sample_label = labels[image_num]\n",
    "        plt.axis('off')\n",
    "        plt.title('Label: {}\\nFormat: {}\\nMin: {:.2f} | Max: {:.2f}'.format(sample_label,\n",
    "                                                                    sample_image.shape,\n",
    "                                                                    sample_image.min(),\n",
    "                                                                    sample_image.max()))\n",
    "        plt.imshow(sample_image)\n",
    "    plt.show()\n",
    "\n",
    "display_sample_images(features, labels, 4)"
   ]
  },
  {
   "cell_type": "markdown",
   "metadata": {
    "deletable": true,
    "editable": true
   },
   "source": [
    "## Preprocessing"
   ]
  },
  {
   "cell_type": "markdown",
   "metadata": {
    "deletable": true,
    "editable": true
   },
   "source": [
    "### Normalize"
   ]
  },
  {
   "cell_type": "code",
   "execution_count": 113,
   "metadata": {
    "collapsed": false,
    "deletable": true,
    "editable": true
   },
   "outputs": [],
   "source": [
    "def normalize(x):\n",
    "    \"\"\"\n",
    "    Normalize a list of sample image data in the range of 0 to 1\n",
    "    : x: List of image data.  The image shape is (32, 32, 3)\n",
    "    : return: Numpy array of normalize data\n",
    "    \"\"\"\n",
    "    n = x.shape[3]\n",
    "    result = []\n",
    "    for i in range(n):\n",
    "        image = np.mean(x[:,:,:,i], axis=2)\n",
    "        image = (image - np.mean(image)) / np.std(image)\n",
    "        image = image[:,:,np.newaxis]\n",
    "        print('Normalizing image #{:5d} | shape {}'.format(i, image.shape), end='\\r')\n",
    "        result.append(image)\n",
    "    return np.array(result)\n",
    "\n",
    "#features = normalize(features)\n",
    "#print('\\n', features.shape, sep='')"
   ]
  },
  {
   "cell_type": "code",
   "execution_count": 114,
   "metadata": {
    "collapsed": false
   },
   "outputs": [
    {
     "name": "stdout",
     "output_type": "stream",
     "text": [
      "Normalizing image #73256 | shape (32, 32, 3)\n",
      "(73257, 32, 32, 3)\n"
     ]
    }
   ],
   "source": [
    "def global_contrast_normalization(x, s, lmda, epsilon):\n",
    "    n = x.shape[3]\n",
    "    result = []\n",
    "    for i in range(n):\n",
    "        image = x[:,:,:,i]\n",
    "        image = image - np.mean(image)\n",
    "        \n",
    "        contrast = np.sqrt(lmda + np.mean(image**2))\n",
    "        image = s * image / max(contrast, epsilon)\n",
    "        print('Normalizing image #{:5d} | shape {}'.format(i, image.shape), end='\\r')\n",
    "        result.append(image)\n",
    "    return np.array(result)\n",
    "    \n",
    "features = global_contrast_normalization(features, 1, 10, 0.000000001)\n",
    "print('\\n', features.shape, sep='')"
   ]
  },
  {
   "cell_type": "markdown",
   "metadata": {
    "deletable": true,
    "editable": true
   },
   "source": [
    "### One-hot encode"
   ]
  },
  {
   "cell_type": "code",
   "execution_count": 115,
   "metadata": {
    "collapsed": false,
    "deletable": true,
    "editable": true
   },
   "outputs": [
    {
     "name": "stdout",
     "output_type": "stream",
     "text": [
      "Encoding label #73256\n",
      "(73257, 10)\n"
     ]
    }
   ],
   "source": [
    "def one_hot_encode(x):\n",
    "    \"\"\"\n",
    "    One hot encode a list of sample labels. Return a one-hot encoded vector for each label.\n",
    "    : x: List of sample Labels\n",
    "    : return: Numpy array of one-hot encoded labels\n",
    "    \"\"\"\n",
    "    result = []\n",
    "    for i in range(len(x)):\n",
    "        print('Encoding label #{:5d}'.format(i), end='\\r')\n",
    "        result.append([1 if x[i] == j + 1 else 0 for j in range(10)])\n",
    "    return np.array(result)\n",
    "\n",
    "labels = one_hot_encode(labels)\n",
    "print('\\n', labels.shape, sep='')"
   ]
  },
  {
   "cell_type": "markdown",
   "metadata": {
    "deletable": true,
    "editable": true
   },
   "source": [
    "### Split train and test set"
   ]
  },
  {
   "cell_type": "code",
   "execution_count": 116,
   "metadata": {
    "collapsed": false,
    "deletable": true,
    "editable": true
   },
   "outputs": [
    {
     "name": "stdout",
     "output_type": "stream",
     "text": [
      "Train features: (54942, 32, 32, 3), train labels: (54942, 10)\n",
      "Test features: (18315, 32, 32, 3), test labels: (18315, 10)\n"
     ]
    }
   ],
   "source": [
    "X_train, X_test, y_train, y_test = train_test_split(features, labels, test_size=0.25, random_state=0)\n",
    "\n",
    "print('Train features: {}, train labels: {}'.format(X_train.shape, y_train.shape))\n",
    "print('Test features: {}, test labels: {}'.format(X_test.shape, y_test.shape))"
   ]
  },
  {
   "cell_type": "markdown",
   "metadata": {
    "deletable": true,
    "editable": true
   },
   "source": [
    "### Sanity check"
   ]
  },
  {
   "cell_type": "code",
   "execution_count": 119,
   "metadata": {
    "collapsed": false,
    "deletable": true,
    "editable": true
   },
   "outputs": [
    {
     "name": "stdout",
     "output_type": "stream",
     "text": [
      "\n",
      "Train set:\n"
     ]
    },
    {
     "data": {
      "image/png": "[encoded data removed]",
      "text/plain": [
       "<matplotlib.figure.Figure at 0x7f79ef381358>"
      ]
     },
     "metadata": {},
     "output_type": "display_data"
    },
    {
     "name": "stdout",
     "output_type": "stream",
     "text": [
      "\n",
      "Test set:\n"
     ]
    },
    {
     "data": {
      "image/png": "[encoded data removed]",
      "text/plain": [
       "<matplotlib.figure.Figure at 0x7f79fcdb62b0>"
      ]
     },
     "metadata": {},
     "output_type": "display_data"
    }
   ],
   "source": [
    "print('\\nTrain set:')\n",
    "display_sample_images(X_train, y_train, 4, normalized=True)\n",
    "\n",
    "print('\\nTest set:')\n",
    "display_sample_images(X_test, y_test, 4, normalized=True)"
   ]
  },
  {
   "cell_type": "markdown",
   "metadata": {
    "deletable": true,
    "editable": true
   },
   "source": [
    "## Building the Neural Net"
   ]
  },
  {
   "cell_type": "markdown",
   "metadata": {
    "deletable": true,
    "editable": true
   },
   "source": [
    "### Building nodes, weights, biases"
   ]
  },
  {
   "cell_type": "code",
   "execution_count": 120,
   "metadata": {
    "collapsed": false,
    "deletable": true,
    "editable": true
   },
   "outputs": [],
   "source": [
    "def conv2d(x_tensor, conv_num_outputs, conv_ksize, conv_strides, scope='conv'):\n",
    "    \n",
    "    with tf.variable_scope(scope):\n",
    "        # Dimension parameters\n",
    "        input_depth    = x_tensor.get_shape().as_list()[3]\n",
    "        conv_height    = conv_ksize[0]\n",
    "        conv_width     = conv_ksize[1]\n",
    "        strides_height = conv_strides[0]\n",
    "        strides_width  = conv_strides[1]\n",
    "        padding        = 'SAME'\n",
    "        \n",
    "        # Initiate weights and biases\n",
    "        W = tf.Variable(tf.truncated_normal([conv_height, conv_width, input_depth, conv_num_outputs], stddev=0.1))\n",
    "        b = tf.Variable(tf.truncated_normal([conv_num_outputs], stddev=0.1))\n",
    "        \n",
    "        # Draw convnet\n",
    "        output = tf.nn.conv2d(x_tensor, W, [1, strides_height, strides_width, 1], padding)\n",
    "        output = tf.nn.bias_add(output, b)\n",
    "        output = tf.nn.relu(output)\n",
    "        \n",
    "        return output"
   ]
  },
  {
   "cell_type": "code",
   "execution_count": 121,
   "metadata": {
    "collapsed": true,
    "deletable": true,
    "editable": true
   },
   "outputs": [],
   "source": [
    "def maxpool(x_tensor, pool_ksize, pool_strides, scope='pool'):\n",
    "    \n",
    "    with tf.variable_scope(scope):\n",
    "        # Max pool parameters\n",
    "        pool_height    = pool_ksize[0]\n",
    "        pool_width     = pool_ksize[1]\n",
    "        pool_strides_h = pool_strides[0]\n",
    "        pool_strides_w = pool_strides[1]\n",
    "        padding        = 'SAME'\n",
    "        \n",
    "        # Maxpool\n",
    "        output = tf.nn.max_pool(x_tensor,\n",
    "                                ksize=[1, pool_height, pool_width, 1],\n",
    "                                strides=[1, pool_strides_h, pool_strides_w, 1],\n",
    "                                padding=padding)\n",
    "        \n",
    "        return output"
   ]
  },
  {
   "cell_type": "code",
   "execution_count": 122,
   "metadata": {
    "collapsed": true,
    "deletable": true,
    "editable": true
   },
   "outputs": [],
   "source": [
    "def flatten(x_tensor, scope='flat'):\n",
    "    \n",
    "    with tf.variable_scope(scope):\n",
    "        height = x_tensor.get_shape().as_list()[1]\n",
    "        width  = x_tensor.get_shape().as_list()[2]\n",
    "        depth  = x_tensor.get_shape().as_list()[3]\n",
    "        return tf.reshape(x_tensor,[-1, height * width * depth])"
   ]
  },
  {
   "cell_type": "code",
   "execution_count": 123,
   "metadata": {
    "collapsed": true,
    "deletable": true,
    "editable": true
   },
   "outputs": [],
   "source": [
    "def fully_conn(x_tensor, num_outputs, keep_prob=None, scope='fc'):\n",
    "    \n",
    "    with tf.variable_scope(scope):\n",
    "        W = tf.Variable(tf.truncated_normal([x_tensor.get_shape().as_list()[1], num_outputs], stddev=0.1))\n",
    "        b = tf.Variable(tf.zeros([num_outputs]))\n",
    "        fc = tf.nn.relu(tf.matmul(x_tensor, W) + b)\n",
    "        if keep_prob is not None:\n",
    "            fc = tf.nn.dropout(fc, keep_prob)\n",
    "        return fc"
   ]
  },
  {
   "cell_type": "code",
   "execution_count": 124,
   "metadata": {
    "collapsed": true,
    "deletable": true,
    "editable": true
   },
   "outputs": [],
   "source": [
    "def output(x_tensor, num_outputs, scope='output'):\n",
    "    with tf.variable_scope(scope):\n",
    "        W = tf.Variable(tf.truncated_normal([x_tensor.get_shape().as_list()[1], num_outputs], stddev=0.1))\n",
    "        b = tf.Variable(tf.zeros([num_outputs]))\n",
    "        return tf.matmul(x_tensor, W) + b"
   ]
  },
  {
   "cell_type": "markdown",
   "metadata": {
    "deletable": true,
    "editable": true
   },
   "source": [
    "### Neural Net layout"
   ]
  },
  {
   "cell_type": "code",
   "execution_count": 125,
   "metadata": {
    "collapsed": false,
    "deletable": true,
    "editable": true
   },
   "outputs": [],
   "source": [
    "x = tf.placeholder(tf.float32, (None, features.shape[1], features.shape[2], features.shape[3]), 'x')\n",
    "y = tf.placeholder(tf.float32, (None, labels.shape[1]), 'y')\n",
    "keep_prob = tf.placeholder(tf.float32, name='keep_prob')\n",
    "learning_rate = tf.placeholder(tf.float32, name='learning_rate')\n",
    "\n",
    "# VGG16 architecture\n",
    "\n",
    "# 1st conv layer\n",
    "conv1_1 = conv2d(x,64,(3, 3),(1, 1), scope='conv1_1')\n",
    "conv1_2 = conv2d(conv1_1,64,(3, 3),(1, 1), scope='conv1_2')\n",
    "poll1 = maxpool(conv1_2,(2, 2),(2, 2), 'pool1')\n",
    "\n",
    "# 2nd conv layer\n",
    "conv2_1 = conv2d(poll1,128,(3, 3),(1, 1), scope='conv2_1')\n",
    "conv2_2 = conv2d(conv2_1,128,(3, 3),(1, 1), scope='conv2_2')\n",
    "pool2 = maxpool(conv2_2,(2, 2),(2, 2), 'pool2')\n",
    "\n",
    "# 3rd conv layer\n",
    "conv3_1 = conv2d(pool2,256,(3, 3),(1, 1), scope='conv3_1')\n",
    "conv3_2 = conv2d(conv3_1,256,(3, 3),(1, 1), scope='conv3_2')\n",
    "conv3_3 = conv2d(conv3_2,256,(3, 3),(1, 1), scope='conv3_3')\n",
    "pool3 = maxpool(conv3_3,(2, 2),(2, 2), 'pool3')\n",
    "\n",
    "# 3rd conv layer\n",
    "conv4_1 = conv2d(pool3,512,(3, 3),(1, 1), scope='conv4_1')\n",
    "conv4_2 = conv2d(conv4_1,512,(3, 3),(1, 1), scope='conv4_2')\n",
    "conv4_3 = conv2d(conv4_2,512,(3, 3),(1, 1), scope='conv4_3')\n",
    "pool4 = maxpool(conv4_3,(2, 2),(2, 2), 'pool4')\n",
    "\n",
    "# 3rd conv layer\n",
    "conv5_1 = conv2d(pool4,512,(3, 3),(1, 1), scope='conv5_1')\n",
    "conv5_2 = conv2d(conv5_1,512,(3, 3),(1, 1), scope='conv5_2')\n",
    "conv5_3 = conv2d(conv5_2,512,(3, 3),(1, 1), scope='conv5_3')\n",
    "pool5 = maxpool(conv5_3,(2, 2),(2, 2), 'pool5')\n",
    "\n",
    "# Fully connected layer\n",
    "flat = flatten(pool5, scope='flat')\n",
    "fc1   = fully_conn(flat, 4096, keep_prob=keep_prob, scope='fc1')\n",
    "fc2   = fully_conn(fc1, 4096, keep_prob=keep_prob, scope='fc2')\n",
    "\n",
    "# Logits output\n",
    "logits = output(fc2, labels.shape[1], scope='logits')"
   ]
  },
  {
   "cell_type": "markdown",
   "metadata": {
    "deletable": true,
    "editable": true
   },
   "source": [
    "### Loss and optimizer"
   ]
  },
  {
   "cell_type": "code",
   "execution_count": 126,
   "metadata": {
    "collapsed": false,
    "deletable": true,
    "editable": true
   },
   "outputs": [],
   "source": [
    "cost = tf.reduce_mean(tf.nn.softmax_cross_entropy_with_logits(logits=logits, labels=y))\n",
    "optimizer = tf.train.GradientDescentOptimizer(learning_rate=learning_rate).minimize(cost)"
   ]
  },
  {
   "cell_type": "markdown",
   "metadata": {
    "deletable": true,
    "editable": true
   },
   "source": [
    "### Accuracy"
   ]
  },
  {
   "cell_type": "code",
   "execution_count": 127,
   "metadata": {
    "collapsed": false,
    "deletable": true,
    "editable": true
   },
   "outputs": [],
   "source": [
    "prediction = tf.argmax(logits, 1) + 1\n",
    "correct_pred = tf.equal(prediction,(tf.argmax(y, 1) + 1))\n",
    "accuracy = tf.reduce_mean(tf.cast(correct_pred, tf.float32), name='accuracy')"
   ]
  },
  {
   "cell_type": "markdown",
   "metadata": {
    "collapsed": true,
    "deletable": true,
    "editable": true
   },
   "source": [
    "## Training the neural net"
   ]
  },
  {
   "cell_type": "code",
   "execution_count": 128,
   "metadata": {
    "collapsed": true,
    "deletable": true,
    "editable": true
   },
   "outputs": [],
   "source": [
    "epochs = 100\n",
    "batch_size = 320\n",
    "val_size = 0.2\n",
    "train_keep_prob = 0.5\n",
    "learn_rate = 0.01\n",
    "display_step = 1"
   ]
  },
  {
   "cell_type": "code",
   "execution_count": 129,
   "metadata": {
    "collapsed": false,
    "deletable": true,
    "editable": true
   },
   "outputs": [],
   "source": [
    "def batch_creator(features, labels, batch_size, val_size=None):\n",
    "    for start in range(0, len(features), batch_size):\n",
    "        end = min(start + batch_size, len(features))\n",
    "        if val_size is not None:\n",
    "            feat_batch_train, feat_batch_val, lab_batch_train, lab_batch_val = train_test_split(features[start:end],\n",
    "                                                                                                labels[start:end],\n",
    "                                                                                                test_size=val_size)\n",
    "            yield feat_batch_train, feat_batch_val, lab_batch_train, lab_batch_val\n",
    "        else:\n",
    "            yield features[start:end], labels[start:end]"
   ]
  },
  {
   "cell_type": "code",
   "execution_count": 130,
   "metadata": {
    "collapsed": false,
    "deletable": true,
    "editable": true
   },
   "outputs": [
    {
     "name": "stdout",
     "output_type": "stream",
     "text": [
      "Epoch    0/  99|Interaction   172 => loss:    2.2820 | train: 0.1736 | val: 0.1829 | time: 231.0747\n",
      "Epoch    1/  99|Interaction   344 => loss:    2.2622 | train: 0.1722 | val: 0.1888 | time: 230.4601\n",
      "Epoch    2/  99|Interaction   516 => loss:    2.2550 | train: 0.1643 | val: 0.2201 | time: 230.4887\n"
     ]
    },
    {
     "ename": "KeyboardInterrupt",
     "evalue": "",
     "output_type": "error",
     "traceback": [
      "\u001b[0;31m---------------------------------------------------------------------------\u001b[0m",
      "\u001b[0;31mKeyboardInterrupt\u001b[0m                         Traceback (most recent call last)",
      "\u001b[0;32m<ipython-input-130-7e1ca3bcbb70>\u001b[0m in \u001b[0;36m<module>\u001b[0;34m()\u001b[0m\n\u001b[1;32m     20\u001b[0m             \u001b[0msess\u001b[0m\u001b[0;34m.\u001b[0m\u001b[0mrun\u001b[0m\u001b[0;34m(\u001b[0m\u001b[0moptimizer\u001b[0m\u001b[0;34m,\u001b[0m \u001b[0mfeed_dict\u001b[0m\u001b[0;34m=\u001b[0m\u001b[0mtrain_feed_dict\u001b[0m\u001b[0;34m)\u001b[0m\u001b[0;34m\u001b[0m\u001b[0m\n\u001b[1;32m     21\u001b[0m             \u001b[0mloss\u001b[0m \u001b[0;34m=\u001b[0m \u001b[0msess\u001b[0m\u001b[0;34m.\u001b[0m\u001b[0mrun\u001b[0m\u001b[0;34m(\u001b[0m\u001b[0mcost\u001b[0m\u001b[0;34m,\u001b[0m \u001b[0mfeed_dict\u001b[0m\u001b[0;34m=\u001b[0m\u001b[0mtrain_feed_dict\u001b[0m\u001b[0;34m)\u001b[0m\u001b[0;34m\u001b[0m\u001b[0m\n\u001b[0;32m---> 22\u001b[0;31m             \u001b[0mtrain_acc\u001b[0m \u001b[0;34m=\u001b[0m \u001b[0msess\u001b[0m\u001b[0;34m.\u001b[0m\u001b[0mrun\u001b[0m\u001b[0;34m(\u001b[0m\u001b[0maccuracy\u001b[0m\u001b[0;34m,\u001b[0m \u001b[0mfeed_dict\u001b[0m\u001b[0;34m=\u001b[0m\u001b[0mtrain_feed_dict\u001b[0m\u001b[0;34m)\u001b[0m\u001b[0;34m\u001b[0m\u001b[0m\n\u001b[0m\u001b[1;32m     23\u001b[0m             \u001b[0mtrain_acc_mean\u001b[0m \u001b[0;34m+=\u001b[0m \u001b[0mtrain_acc\u001b[0m\u001b[0;34m\u001b[0m\u001b[0m\n\u001b[1;32m     24\u001b[0m             \u001b[0mtrain_acc_mean\u001b[0m \u001b[0;34m=\u001b[0m \u001b[0mtrain_acc_mean\u001b[0m \u001b[0;34m/\u001b[0m \u001b[0;36m2\u001b[0m\u001b[0;34m\u001b[0m\u001b[0m\n",
      "\u001b[0;32m/home/carnd/anaconda3/envs/dl/lib/python3.5/site-packages/tensorflow/python/client/session.py\u001b[0m in \u001b[0;36mrun\u001b[0;34m(self, fetches, feed_dict, options, run_metadata)\u001b[0m\n\u001b[1;32m    765\u001b[0m     \u001b[0;32mtry\u001b[0m\u001b[0;34m:\u001b[0m\u001b[0;34m\u001b[0m\u001b[0m\n\u001b[1;32m    766\u001b[0m       result = self._run(None, fetches, feed_dict, options_ptr,\n\u001b[0;32m--> 767\u001b[0;31m                          run_metadata_ptr)\n\u001b[0m\u001b[1;32m    768\u001b[0m       \u001b[0;32mif\u001b[0m \u001b[0mrun_metadata\u001b[0m\u001b[0;34m:\u001b[0m\u001b[0;34m\u001b[0m\u001b[0m\n\u001b[1;32m    769\u001b[0m         \u001b[0mproto_data\u001b[0m \u001b[0;34m=\u001b[0m \u001b[0mtf_session\u001b[0m\u001b[0;34m.\u001b[0m\u001b[0mTF_GetBuffer\u001b[0m\u001b[0;34m(\u001b[0m\u001b[0mrun_metadata_ptr\u001b[0m\u001b[0;34m)\u001b[0m\u001b[0;34m\u001b[0m\u001b[0m\n",
      "\u001b[0;32m/home/carnd/anaconda3/envs/dl/lib/python3.5/site-packages/tensorflow/python/client/session.py\u001b[0m in \u001b[0;36m_run\u001b[0;34m(self, handle, fetches, feed_dict, options, run_metadata)\u001b[0m\n\u001b[1;32m    963\u001b[0m     \u001b[0;32mif\u001b[0m \u001b[0mfinal_fetches\u001b[0m \u001b[0;32mor\u001b[0m \u001b[0mfinal_targets\u001b[0m\u001b[0;34m:\u001b[0m\u001b[0;34m\u001b[0m\u001b[0m\n\u001b[1;32m    964\u001b[0m       results = self._do_run(handle, final_targets, final_fetches,\n\u001b[0;32m--> 965\u001b[0;31m                              feed_dict_string, options, run_metadata)\n\u001b[0m\u001b[1;32m    966\u001b[0m     \u001b[0;32melse\u001b[0m\u001b[0;34m:\u001b[0m\u001b[0;34m\u001b[0m\u001b[0m\n\u001b[1;32m    967\u001b[0m       \u001b[0mresults\u001b[0m \u001b[0;34m=\u001b[0m \u001b[0;34m[\u001b[0m\u001b[0;34m]\u001b[0m\u001b[0;34m\u001b[0m\u001b[0m\n",
      "\u001b[0;32m/home/carnd/anaconda3/envs/dl/lib/python3.5/site-packages/tensorflow/python/client/session.py\u001b[0m in \u001b[0;36m_do_run\u001b[0;34m(self, handle, target_list, fetch_list, feed_dict, options, run_metadata)\u001b[0m\n\u001b[1;32m   1013\u001b[0m     \u001b[0;32mif\u001b[0m \u001b[0mhandle\u001b[0m \u001b[0;32mis\u001b[0m \u001b[0;32mNone\u001b[0m\u001b[0;34m:\u001b[0m\u001b[0;34m\u001b[0m\u001b[0m\n\u001b[1;32m   1014\u001b[0m       return self._do_call(_run_fn, self._session, feed_dict, fetch_list,\n\u001b[0;32m-> 1015\u001b[0;31m                            target_list, options, run_metadata)\n\u001b[0m\u001b[1;32m   1016\u001b[0m     \u001b[0;32melse\u001b[0m\u001b[0;34m:\u001b[0m\u001b[0;34m\u001b[0m\u001b[0m\n\u001b[1;32m   1017\u001b[0m       return self._do_call(_prun_fn, self._session, handle, feed_dict,\n",
      "\u001b[0;32m/home/carnd/anaconda3/envs/dl/lib/python3.5/site-packages/tensorflow/python/client/session.py\u001b[0m in \u001b[0;36m_do_call\u001b[0;34m(self, fn, *args)\u001b[0m\n\u001b[1;32m   1020\u001b[0m   \u001b[0;32mdef\u001b[0m \u001b[0m_do_call\u001b[0m\u001b[0;34m(\u001b[0m\u001b[0mself\u001b[0m\u001b[0;34m,\u001b[0m \u001b[0mfn\u001b[0m\u001b[0;34m,\u001b[0m \u001b[0;34m*\u001b[0m\u001b[0margs\u001b[0m\u001b[0;34m)\u001b[0m\u001b[0;34m:\u001b[0m\u001b[0;34m\u001b[0m\u001b[0m\n\u001b[1;32m   1021\u001b[0m     \u001b[0;32mtry\u001b[0m\u001b[0;34m:\u001b[0m\u001b[0;34m\u001b[0m\u001b[0m\n\u001b[0;32m-> 1022\u001b[0;31m       \u001b[0;32mreturn\u001b[0m \u001b[0mfn\u001b[0m\u001b[0;34m(\u001b[0m\u001b[0;34m*\u001b[0m\u001b[0margs\u001b[0m\u001b[0;34m)\u001b[0m\u001b[0;34m\u001b[0m\u001b[0m\n\u001b[0m\u001b[1;32m   1023\u001b[0m     \u001b[0;32mexcept\u001b[0m \u001b[0merrors\u001b[0m\u001b[0;34m.\u001b[0m\u001b[0mOpError\u001b[0m \u001b[0;32mas\u001b[0m \u001b[0me\u001b[0m\u001b[0;34m:\u001b[0m\u001b[0;34m\u001b[0m\u001b[0m\n\u001b[1;32m   1024\u001b[0m       \u001b[0mmessage\u001b[0m \u001b[0;34m=\u001b[0m \u001b[0mcompat\u001b[0m\u001b[0;34m.\u001b[0m\u001b[0mas_text\u001b[0m\u001b[0;34m(\u001b[0m\u001b[0me\u001b[0m\u001b[0;34m.\u001b[0m\u001b[0mmessage\u001b[0m\u001b[0;34m)\u001b[0m\u001b[0;34m\u001b[0m\u001b[0m\n",
      "\u001b[0;32m/home/carnd/anaconda3/envs/dl/lib/python3.5/site-packages/tensorflow/python/client/session.py\u001b[0m in \u001b[0;36m_run_fn\u001b[0;34m(session, feed_dict, fetch_list, target_list, options, run_metadata)\u001b[0m\n\u001b[1;32m   1002\u001b[0m         return tf_session.TF_Run(session, options,\n\u001b[1;32m   1003\u001b[0m                                  \u001b[0mfeed_dict\u001b[0m\u001b[0;34m,\u001b[0m \u001b[0mfetch_list\u001b[0m\u001b[0;34m,\u001b[0m \u001b[0mtarget_list\u001b[0m\u001b[0;34m,\u001b[0m\u001b[0;34m\u001b[0m\u001b[0m\n\u001b[0;32m-> 1004\u001b[0;31m                                  status, run_metadata)\n\u001b[0m\u001b[1;32m   1005\u001b[0m \u001b[0;34m\u001b[0m\u001b[0m\n\u001b[1;32m   1006\u001b[0m     \u001b[0;32mdef\u001b[0m \u001b[0m_prun_fn\u001b[0m\u001b[0;34m(\u001b[0m\u001b[0msession\u001b[0m\u001b[0;34m,\u001b[0m \u001b[0mhandle\u001b[0m\u001b[0;34m,\u001b[0m \u001b[0mfeed_dict\u001b[0m\u001b[0;34m,\u001b[0m \u001b[0mfetch_list\u001b[0m\u001b[0;34m)\u001b[0m\u001b[0;34m:\u001b[0m\u001b[0;34m\u001b[0m\u001b[0m\n",
      "\u001b[0;31mKeyboardInterrupt\u001b[0m: "
     ]
    }
   ],
   "source": [
    "init = tf.global_variables_initializer()\n",
    "\n",
    "train_acc_results = []\n",
    "val_acc_results = []\n",
    "images_samples = []\n",
    "train_acc_mean = 0\n",
    "val_acc_mean = 0\n",
    "\n",
    "with tf.Session() as sess:\n",
    "    sess.run(init)\n",
    "    iteration = 0\n",
    "    for epoch in range(epochs):\n",
    "        start = time.time()\n",
    "        for X_batch_train, X_batch_val, y_batch_train, y_batch_val in batch_creator(X_train, y_train, batch_size, val_size):\n",
    "            train_feed_dict = {x: X_batch_train,\n",
    "                               y: y_batch_train,\n",
    "                               keep_prob: train_keep_prob,\n",
    "                               learning_rate: learn_rate\n",
    "                              }\n",
    "            sess.run(optimizer, feed_dict=train_feed_dict)\n",
    "            loss = sess.run(cost, feed_dict=train_feed_dict)\n",
    "            train_acc = sess.run(accuracy, feed_dict=train_feed_dict)\n",
    "            train_acc_mean += train_acc\n",
    "            train_acc_mean = train_acc_mean / 2\n",
    "            \n",
    "            val_feed_dict = {x: X_batch_val,\n",
    "                             y: y_batch_val,\n",
    "                             keep_prob: 1.0\n",
    "                            }\n",
    "            val_acc = sess.run(accuracy, feed_dict=val_feed_dict)\n",
    "            val_acc_mean += val_acc\n",
    "            val_acc_mean = val_acc_mean / 2\n",
    "            iteration += 1\n",
    "        train_acc_results.append(train_acc_mean)\n",
    "        val_acc_results.append(val_acc_mean)\n",
    "        delta_time = time.time() - start\n",
    "        if epoch % display_step == 0 or epoch + 1 == epochs:\n",
    "            print('Epoch {:4d}/{:4d}|Interaction {:5d} => \\\n",
    "loss:{:10.4f} | train: {:.4f} | val: {:.4f} | time: {:.4f}'.format(epoch, epochs - 1, iteration,\n",
    "                                                    loss, train_acc_mean, val_acc_mean, delta_time))\n",
    "    rand_image = np.random.randint(0, high=len(X_train))\n",
    "    sample_image = X_train[rand_image]\n",
    "    plt.axis('off')\n",
    "    plt.imshow(sample_image)\n",
    "    plt.title('Sanity Check - Prediction on training data\\nPrediction: {} | True: {}'.format(sess.run(prediction,\n",
    "                                                                        feed_dict={x:X_train[rand_image].reshape((-1, 32, 32, 3)),\n",
    "                                                                                   keep_prob:1.0\n",
    "                                                                                  }),\n",
    "                                                               np.where(y_train[rand_image] == 1)[0] + 1))\n",
    "    plt.show()"
   ]
  },
  {
   "cell_type": "code",
   "execution_count": null,
   "metadata": {
    "collapsed": false,
    "deletable": true,
    "editable": true
   },
   "outputs": [],
   "source": [
    "plt.plot(range(len(train_acc_results)), val_acc_results, label='Validation')\n",
    "plt.plot(range(len(train_acc_results)), train_acc_results, label='Train')\n",
    "plt.title('Train and Validation accuracy')\n",
    "plt.legend()\n",
    "plt.show()"
   ]
  },
  {
   "cell_type": "code",
   "execution_count": 40,
   "metadata": {
    "collapsed": false,
    "deletable": true,
    "editable": true
   },
   "outputs": [
    {
     "data": {
      "image/png": "[encoded data removed]",
      "text/plain": [
       "<matplotlib.figure.Figure at 0x7f5d3f1b0c50>"
      ]
     },
     "metadata": {},
     "output_type": "display_data"
    }
   ],
   "source": [
    "size_test_sample = 1000\n",
    "test_acc_mean = 0\n",
    "with tf.Session() as sess:\n",
    "    sess.run(init)\n",
    "    for X_batch_test, y_batch_test in batch_creator(X_test, y_test, batch_size):\n",
    "        feed = {x: X_batch_test,\n",
    "                y: y_batch_test,\n",
    "                keep_prob: 1.0\n",
    "               }\n",
    "        test_acc = sess.run(accuracy, feed_dict=feed)\n",
    "        test_acc_mean += val_acc\n",
    "        test_acc_mean = val_acc_mean / 2\n",
    "    \n",
    "    rand_image = np.random.randint(0, high=len(X_test))\n",
    "    sample_image = X_test[rand_image]\n",
    "    plt.axis('off')\n",
    "    plt.imshow(sample_image)\n",
    "    plt.title('Test accuracy: {:.4f}\\nPrediction: {} | True: {}'.format(test_acc_mean,\n",
    "                                                                    sess.run(prediction,\n",
    "                                                                             feed_dict={x:X_test[rand_image].reshape((-1, 32, 32, 3)),\n",
    "                                                                                        keep_prob:1.0\n",
    "                                                                                       }),\n",
    "                                                                    np.where(y_test[rand_image] == 1)[0] + 1))\n",
    "    plt.show()"
   ]
  },
  {
   "cell_type": "code",
   "execution_count": null,
   "metadata": {
    "collapsed": true,
    "deletable": true,
    "editable": true
   },
   "outputs": [],
   "source": []
  }
 ],
 "metadata": {
  "kernelspec": {
   "display_name": "Python 3",
   "language": "python",
   "name": "python3"
  },
  "language_info": {
   "codemirror_mode": {
    "name": "ipython",
    "version": 3
   },
   "file_extension": ".py",
   "mimetype": "text/x-python",
   "name": "python",
   "nbconvert_exporter": "python",
   "pygments_lexer": "ipython3",
   "version": "3.5.2"
  },
  "widgets": {
   "state": {},
   "version": "1.1.2"
  }
 },
 "nbformat": 4,
 "nbformat_minor": 2
}
