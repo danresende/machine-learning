{
 "cells": [
  {
   "cell_type": "markdown",
   "metadata": {
    "deletable": true,
    "editable": true
   },
   "source": [
    "# The Street View House Numbers (SVHN) Dataset\n",
    "\n",
    "SVHN is a real-world image dataset for developing machine learning and object recognition algorithms with minimal requirement on data preprocessing and formatting. It can be seen as similar in flavor to MNIST (e.g., the images are of small cropped digits), but incorporates an order of magnitude more labeled data (over 600,000 digit images) and comes from a significantly harder, unsolved, real world problem (recognizing digits and numbers in natural scene images). SVHN is obtained from house numbers in Google Street View images. The dataset and more information can be founded [`here`](http://ufldl.stanford.edu/housenumbers/)."
   ]
  },
  {
   "cell_type": "markdown",
   "metadata": {
    "deletable": true,
    "editable": true
   },
   "source": [
    "## Loading data and libraries"
   ]
  },
  {
   "cell_type": "code",
   "execution_count": 53,
   "metadata": {
    "collapsed": false,
    "deletable": true,
    "editable": true
   },
   "outputs": [
    {
     "name": "stdout",
     "output_type": "stream",
     "text": [
      "Requirement already satisfied: tqdm in /home/carnd/anaconda3/envs/dl/lib/python3.5/site-packages\r\n"
     ]
    }
   ],
   "source": [
    "!pip install tqdm"
   ]
  },
  {
   "cell_type": "code",
   "execution_count": 54,
   "metadata": {
    "collapsed": false,
    "deletable": true,
    "editable": true
   },
   "outputs": [],
   "source": [
    "import os\n",
    "import time\n",
    "import numpy as np\n",
    "import matplotlib.pyplot as plt\n",
    "import tensorflow as tf\n",
    "from tqdm import tqdm\n",
    "from urllib.request import urlretrieve\n",
    "from os.path import isfile\n",
    "from scipy.io import loadmat\n",
    "from skimage.feature import hog\n",
    "from skimage.color import rgb2gray\n",
    "from sklearn.model_selection import train_test_split\n",
    "\n",
    "%matplotlib inline\n",
    "tf.reset_default_graph()"
   ]
  },
  {
   "cell_type": "code",
   "execution_count": 55,
   "metadata": {
    "collapsed": false,
    "deletable": true,
    "editable": true
   },
   "outputs": [
    {
     "name": "stdout",
     "output_type": "stream",
     "text": [
      "Data loaded!\n"
     ]
    }
   ],
   "source": [
    "class DLProgress(tqdm):\n",
    "    last_block = 0\n",
    "\n",
    "    def hook(self, block_num=1, block_size=1, total_size=None):\n",
    "        self.total = total_size\n",
    "        self.update((block_num - self.last_block) * block_size)\n",
    "        self.last_block = block_num\n",
    "\n",
    "if not isfile('../data/train_32x32.mat'):\n",
    "    os.mkdir('../data')\n",
    "    with DLProgress(unit='B', unit_scale=True, miniters=1, desc='SVHN Dataset') as pbar:\n",
    "        urlretrieve(\n",
    "            'http://ufldl.stanford.edu/housenumbers/train_32x32.mat',\n",
    "            '../data/train_32x32.mat',\n",
    "            pbar.hook)\n",
    "\n",
    "svhn_data = loadmat('../data/train_32x32.mat')\n",
    "print('Data loaded!')"
   ]
  },
  {
   "cell_type": "markdown",
   "metadata": {
    "deletable": true,
    "editable": true
   },
   "source": [
    "## Understanding the dataset"
   ]
  },
  {
   "cell_type": "code",
   "execution_count": 56,
   "metadata": {
    "collapsed": false,
    "deletable": true,
    "editable": true
   },
   "outputs": [
    {
     "name": "stdout",
     "output_type": "stream",
     "text": [
      "<class 'dict'>\n",
      "dict_keys(['X', 'y', '__header__', '__version__', '__globals__'])\n"
     ]
    }
   ],
   "source": [
    "print(type(svhn_data))\n",
    "print(svhn_data.keys())"
   ]
  },
  {
   "cell_type": "code",
   "execution_count": 57,
   "metadata": {
    "collapsed": false,
    "deletable": true,
    "editable": true
   },
   "outputs": [
    {
     "name": "stdout",
     "output_type": "stream",
     "text": [
      "X: 73257 (32 x 32 x 3) images\n",
      "y: 73257 (1) labels\n",
      "First 30 labels: [[1 9 2 3 2 5 9 3 3 1 3 3 2 8 7 4 4 1 2 8 1 6 2 3 6 3 4 2 5 8]]\n",
      "Label Counts: {1: 13861, 2: 10585, 3: 8497, 4: 7458, 5: 6882, 6: 5727, 7: 5595, 8: 5045, 9: 4659, 10: 4948}\n"
     ]
    }
   ],
   "source": [
    "features = svhn_data['X']\n",
    "labels = svhn_data['y']\n",
    "\n",
    "print('X: {} ({} x {} x {}) images'.format(features.shape[3], features.shape[0],\n",
    "                                           features.shape[1], features.shape[2]))\n",
    "print('y: {} ({}) labels'.format(labels.shape[0], labels.shape[1]))\n",
    "print('First 30 labels: {}'.format(labels[:30].reshape((1,-1))))\n",
    "print('Label Counts: {}'.format(dict(zip(*np.unique(labels, return_counts=True)))))"
   ]
  },
  {
   "cell_type": "code",
   "execution_count": 58,
   "metadata": {
    "collapsed": false,
    "deletable": true,
    "editable": true
   },
   "outputs": [
    {
     "data": {
      "image/png": "[encoded data removed]",
      "text/plain": [
       "<matplotlib.figure.Figure at 0x7f4bb913dcf8>"
      ]
     },
     "metadata": {},
     "output_type": "display_data"
    }
   ],
   "source": [
    "def display_sample_images(features, labels, n, normalized=False):\n",
    "    fig = plt.figure(figsize=(16, 16))\n",
    "    for i in range(n):\n",
    "        plt.subplot(1,n,i + 1)\n",
    "        image_num = np.random.randint(0, high=len(labels))\n",
    "        if normalized:\n",
    "            sample_image = np.squeeze(features[image_num], axis=2)\n",
    "        else:\n",
    "            sample_image = features[:,:,:,image_num]\n",
    "        sample_label = labels[image_num]\n",
    "        plt.axis('off')\n",
    "        plt.title('Label: {}\\nFormat: {}\\nMin: {:.2f} | Max: {:.2f}'.format(sample_label,\n",
    "                                                                    sample_image.shape,\n",
    "                                                                    sample_image.min(),\n",
    "                                                                    sample_image.max()))\n",
    "        plt.imshow(sample_image)\n",
    "    plt.show()\n",
    "\n",
    "display_sample_images(features, labels, 4)"
   ]
  },
  {
   "cell_type": "markdown",
   "metadata": {
    "deletable": true,
    "editable": true
   },
   "source": [
    "## Preprocessing"
   ]
  },
  {
   "cell_type": "markdown",
   "metadata": {
    "deletable": true,
    "editable": true
   },
   "source": [
    "### Normalize features"
   ]
  },
  {
   "cell_type": "code",
   "execution_count": 59,
   "metadata": {
    "collapsed": false,
    "deletable": true,
    "editable": true
   },
   "outputs": [],
   "source": [
    "def normalize(x):\n",
    "    \"\"\"\n",
    "    Normalize a list of sample image data in the range of 0 to 1\n",
    "    : x: List of image data.  The image shape is (32, 32, 3)\n",
    "    : return: Numpy array of normalize data\n",
    "    \"\"\"\n",
    "    n = x.shape[3]\n",
    "    result = []\n",
    "    for i in range(n):\n",
    "        image = np.mean(x[:,:,:,i], axis=2)\n",
    "        image = (image - np.mean(image)) / np.std(image)\n",
    "        image = image[:,:,np.newaxis]\n",
    "        print('Normalizing image #{:5d} | shape {}'.format(i, image.shape), end='\\r')\n",
    "        result.append(image)\n",
    "    return np.array(result)\n",
    "\n",
    "#features = normalize(features)\n",
    "#print('\\n', features.shape, sep='')"
   ]
  },
  {
   "cell_type": "code",
   "execution_count": 60,
   "metadata": {
    "collapsed": false,
    "deletable": true,
    "editable": true
   },
   "outputs": [],
   "source": [
    "def global_contrast_normalization(x, s, lmda, epsilon):\n",
    "    n = x.shape[3]\n",
    "    result = []\n",
    "    for i in range(n):\n",
    "        image = x[:,:,:,i]\n",
    "        image = image - np.mean(image)\n",
    "        \n",
    "        contrast = np.sqrt(lmda + np.mean(image**2))\n",
    "        image = s * image / max(contrast, epsilon)\n",
    "        print('Normalizing image #{:5d} | shape {}'.format(i, image.shape), end='\\r')\n",
    "        result.append(image)\n",
    "    return np.array(result)\n",
    "    \n",
    "#features = global_contrast_normalization(features, 1, 10, 0.000000001)\n",
    "#print('\\n', features.shape, sep='')"
   ]
  },
  {
   "cell_type": "code",
   "execution_count": 61,
   "metadata": {
    "collapsed": false,
    "deletable": true,
    "editable": true
   },
   "outputs": [
    {
     "name": "stdout",
     "output_type": "stream",
     "text": [
      "Normalizing image #73256 | shape (32, 32, 1) | time per image 0.0063 seconds\n",
      "(73257, 32, 32, 1)\n"
     ]
    }
   ],
   "source": [
    "def hog_normalization(x):\n",
    "    n = x.shape[3]\n",
    "    result = []\n",
    "    start = time.time()\n",
    "    for i in range(n):\n",
    "        image = x[:,:,:,i]\n",
    "        image = rgb2gray(image)\n",
    "        _, image = hog(image, visualise=True)\n",
    "        image = image[:,:,np.newaxis]\n",
    "        print('Normalizing image #{:5d} | shape {} | time per image {:.4f} seconds'.format(i, image.shape, (time.time() - start) / (i + 1.0)), end='\\r')\n",
    "        result.append(image)\n",
    "    return np.array(result)\n",
    "\n",
    "features = hog_normalization(features)\n",
    "print('\\n', features.shape, sep='')"
   ]
  },
  {
   "cell_type": "markdown",
   "metadata": {
    "deletable": true,
    "editable": true
   },
   "source": [
    "### One-hot encode labels"
   ]
  },
  {
   "cell_type": "code",
   "execution_count": 62,
   "metadata": {
    "collapsed": false,
    "deletable": true,
    "editable": true
   },
   "outputs": [
    {
     "name": "stdout",
     "output_type": "stream",
     "text": [
      "Encoding label #73256 | time per image 0.0002 seconds\n",
      "(73257, 10)\n"
     ]
    }
   ],
   "source": [
    "def one_hot_encode(x):\n",
    "    \"\"\"\n",
    "    One hot encode a list of sample labels. Return a one-hot encoded vector for each label.\n",
    "    : x: List of sample Labels\n",
    "    : return: Numpy array of one-hot encoded labels\n",
    "    \"\"\"\n",
    "    result = []\n",
    "    start = time.time()\n",
    "    for i in range(len(x)):\n",
    "        print('Encoding label #{:5d} | time per image {:.4f} seconds'.format(i, (time.time() - start) / (i + 1.0)), end='\\r')\n",
    "        result.append([1 if x[i] == j + 1 else 0 for j in range(10)])\n",
    "    return np.array(result)\n",
    "\n",
    "labels = one_hot_encode(labels)\n",
    "print('\\n', labels.shape, sep='')"
   ]
  },
  {
   "cell_type": "markdown",
   "metadata": {
    "deletable": true,
    "editable": true
   },
   "source": [
    "### Split train and test set"
   ]
  },
  {
   "cell_type": "code",
   "execution_count": 63,
   "metadata": {
    "collapsed": false,
    "deletable": true,
    "editable": true
   },
   "outputs": [
    {
     "name": "stdout",
     "output_type": "stream",
     "text": [
      "Train features: (54942, 32, 32, 1), train labels: (54942, 10)\n",
      "Test features: (18315, 32, 32, 1), test labels: (18315, 10)\n"
     ]
    }
   ],
   "source": [
    "X_train, X_test, y_train, y_test = train_test_split(features, labels, test_size=0.25, random_state=0)\n",
    "\n",
    "print('Train features: {}, train labels: {}'.format(X_train.shape, y_train.shape))\n",
    "print('Test features: {}, test labels: {}'.format(X_test.shape, y_test.shape))"
   ]
  },
  {
   "cell_type": "markdown",
   "metadata": {
    "deletable": true,
    "editable": true
   },
   "source": [
    "### Sanity check"
   ]
  },
  {
   "cell_type": "code",
   "execution_count": 64,
   "metadata": {
    "collapsed": false,
    "deletable": true,
    "editable": true
   },
   "outputs": [
    {
     "name": "stdout",
     "output_type": "stream",
     "text": [
      "\n",
      "Train set:\n"
     ]
    },
    {
     "data": {
      "image/png": "[encoded data removed]",
      "text/plain": [
       "<matplotlib.figure.Figure at 0x7f4bbb6e6470>"
      ]
     },
     "metadata": {},
     "output_type": "display_data"
    },
    {
     "name": "stdout",
     "output_type": "stream",
     "text": [
      "\n",
      "Test set:\n"
     ]
    },
    {
     "data": {
      "image/png": "[encoded data removed]",
      "text/plain": [
       "<matplotlib.figure.Figure at 0x7f4bbb2e2c88>"
      ]
     },
     "metadata": {},
     "output_type": "display_data"
    }
   ],
   "source": [
    "print('\\nTrain set:')\n",
    "display_sample_images(X_train, y_train, 4, normalized=True)\n",
    "\n",
    "print('\\nTest set:')\n",
    "display_sample_images(X_test, y_test, 4, normalized=True)"
   ]
  },
  {
   "cell_type": "markdown",
   "metadata": {
    "deletable": true,
    "editable": true
   },
   "source": [
    "## Building the Neural Net"
   ]
  },
  {
   "cell_type": "markdown",
   "metadata": {
    "deletable": true,
    "editable": true
   },
   "source": [
    "### Building nodes, weights, biases"
   ]
  },
  {
   "cell_type": "code",
   "execution_count": 65,
   "metadata": {
    "collapsed": false,
    "deletable": true,
    "editable": true
   },
   "outputs": [],
   "source": [
    "def conv2d(x_tensor, conv_num_outputs, conv_ksize, conv_strides, scope='conv'):\n",
    "    \n",
    "    with tf.variable_scope(scope):\n",
    "        # Dimension parameters\n",
    "        input_depth    = x_tensor.get_shape().as_list()[3]\n",
    "        conv_height    = conv_ksize[0]\n",
    "        conv_width     = conv_ksize[1]\n",
    "        strides_height = conv_strides[0]\n",
    "        strides_width  = conv_strides[1]\n",
    "        padding        = 'SAME'\n",
    "        \n",
    "        # Initiate weights and biases\n",
    "        W = tf.Variable(tf.truncated_normal([conv_height, conv_width, input_depth, conv_num_outputs], stddev=0.01))\n",
    "        b = tf.Variable(tf.zeros([conv_num_outputs]))\n",
    "        \n",
    "        # Draw convnet\n",
    "        output = tf.nn.conv2d(x_tensor, W, [1, strides_height, strides_width, 1], padding)\n",
    "        output = tf.nn.bias_add(output, b)\n",
    "        output = tf.nn.relu(output)\n",
    "        \n",
    "        return output"
   ]
  },
  {
   "cell_type": "code",
   "execution_count": 66,
   "metadata": {
    "collapsed": true,
    "deletable": true,
    "editable": true
   },
   "outputs": [],
   "source": [
    "def maxpool(x_tensor, pool_ksize, pool_strides, scope='pool'):\n",
    "    \n",
    "    with tf.variable_scope(scope):\n",
    "        # Max pool parameters\n",
    "        pool_height    = pool_ksize[0]\n",
    "        pool_width     = pool_ksize[1]\n",
    "        pool_strides_h = pool_strides[0]\n",
    "        pool_strides_w = pool_strides[1]\n",
    "        padding        = 'SAME'\n",
    "        \n",
    "        # Maxpool\n",
    "        output = tf.nn.max_pool(x_tensor,\n",
    "                                ksize=[1, pool_height, pool_width, 1],\n",
    "                                strides=[1, pool_strides_h, pool_strides_w, 1],\n",
    "                                padding=padding)\n",
    "        \n",
    "        return output"
   ]
  },
  {
   "cell_type": "code",
   "execution_count": 67,
   "metadata": {
    "collapsed": true,
    "deletable": true,
    "editable": true
   },
   "outputs": [],
   "source": [
    "def flatten(x_tensor, scope='flat'):\n",
    "    \n",
    "    with tf.variable_scope(scope):\n",
    "        height = x_tensor.get_shape().as_list()[1]\n",
    "        width  = x_tensor.get_shape().as_list()[2]\n",
    "        depth  = x_tensor.get_shape().as_list()[3]\n",
    "        return tf.reshape(x_tensor,[-1, height * width * depth])"
   ]
  },
  {
   "cell_type": "code",
   "execution_count": 68,
   "metadata": {
    "collapsed": true,
    "deletable": true,
    "editable": true
   },
   "outputs": [],
   "source": [
    "def fully_conn(x_tensor, num_outputs, keep_prob=None, scope='fc'):\n",
    "    \n",
    "    with tf.variable_scope(scope):\n",
    "        W = tf.Variable(tf.truncated_normal([x_tensor.get_shape().as_list()[1], num_outputs], stddev=0.01))\n",
    "        b = tf.Variable(tf.zeros([num_outputs]))\n",
    "        fc = tf.nn.relu(tf.matmul(x_tensor, W) + b)\n",
    "        if keep_prob is not None:\n",
    "            fc = tf.nn.dropout(fc, keep_prob)\n",
    "        return fc"
   ]
  },
  {
   "cell_type": "code",
   "execution_count": 69,
   "metadata": {
    "collapsed": true,
    "deletable": true,
    "editable": true
   },
   "outputs": [],
   "source": [
    "def output(x_tensor, num_outputs, scope='output'):\n",
    "    with tf.variable_scope(scope):\n",
    "        W = tf.Variable(tf.truncated_normal([x_tensor.get_shape().as_list()[1], num_outputs], stddev=0.01))\n",
    "        b = tf.Variable(tf.zeros([num_outputs]))\n",
    "        return tf.matmul(x_tensor, W) + b"
   ]
  },
  {
   "cell_type": "markdown",
   "metadata": {
    "deletable": true,
    "editable": true
   },
   "source": [
    "### VGG16 neural net layout"
   ]
  },
  {
   "cell_type": "code",
   "execution_count": 70,
   "metadata": {
    "collapsed": false,
    "deletable": true,
    "editable": true
   },
   "outputs": [],
   "source": [
    "x = tf.placeholder(tf.float32, (None, features.shape[1], features.shape[2], features.shape[3]), 'x')\n",
    "y = tf.placeholder(tf.float32, (None, labels.shape[1]), 'y')\n",
    "keep_prob = tf.placeholder(tf.float32, name='keep_prob')\n",
    "learning_rate = tf.placeholder(tf.float32, name='learning_rate')\n",
    "\n",
    "# VGG16 architecture\n",
    "\n",
    "# 1st conv layer\n",
    "conv1_1 = conv2d(x,64,(3, 3),(1, 1), scope='conv1_1')\n",
    "conv1_2 = conv2d(conv1_1,64,(3, 3),(1, 1), scope='conv1_2')\n",
    "poll1 = maxpool(conv1_2,(2, 2),(2, 2), 'pool1')\n",
    "\n",
    "# 2nd conv layer\n",
    "conv2_1 = conv2d(poll1,128,(3, 3),(1, 1), scope='conv2_1')\n",
    "conv2_2 = conv2d(conv2_1,128,(3, 3),(1, 1), scope='conv2_2')\n",
    "pool2 = maxpool(conv2_2,(2, 2),(2, 2), 'pool2')\n",
    "\n",
    "# 3rd conv layer\n",
    "conv3_1 = conv2d(pool2,256,(3, 3),(1, 1), scope='conv3_1')\n",
    "conv3_2 = conv2d(conv3_1,256,(3, 3),(1, 1), scope='conv3_2')\n",
    "conv3_3 = conv2d(conv3_2,256,(3, 3),(1, 1), scope='conv3_3')\n",
    "pool3 = maxpool(conv3_3,(2, 2),(2, 2), 'pool3')\n",
    "\n",
    "# 3rd conv layer\n",
    "conv4_1 = conv2d(pool3,512,(3, 3),(1, 1), scope='conv4_1')\n",
    "conv4_2 = conv2d(conv4_1,512,(3, 3),(1, 1), scope='conv4_2')\n",
    "conv4_3 = conv2d(conv4_2,512,(3, 3),(1, 1), scope='conv4_3')\n",
    "pool4 = maxpool(conv4_3,(2, 2),(2, 2), 'pool4')\n",
    "\n",
    "# 3rd conv layer\n",
    "conv5_1 = conv2d(pool4,512,(3, 3),(1, 1), scope='conv5_1')\n",
    "conv5_2 = conv2d(conv5_1,512,(3, 3),(1, 1), scope='conv5_2')\n",
    "conv5_3 = conv2d(conv5_2,512,(3, 3),(1, 1), scope='conv5_3')\n",
    "pool5 = maxpool(conv5_3,(2, 2),(2, 2), 'pool5')\n",
    "\n",
    "# Fully connected layer\n",
    "flat = flatten(pool5, scope='flat')\n",
    "fc1   = fully_conn(flat, 4096, keep_prob=keep_prob, scope='fc1')\n",
    "fc2   = fully_conn(fc1, 4096, keep_prob=keep_prob, scope='fc2')\n",
    "\n",
    "# Logits output\n",
    "logits = output(fc2, labels.shape[1], scope='logits')"
   ]
  },
  {
   "cell_type": "markdown",
   "metadata": {
    "deletable": true,
    "editable": true
   },
   "source": [
    "### Loss and optimizer"
   ]
  },
  {
   "cell_type": "code",
   "execution_count": 71,
   "metadata": {
    "collapsed": false,
    "deletable": true,
    "editable": true
   },
   "outputs": [],
   "source": [
    "with tf.name_scope('train'):\n",
    "    cost = tf.reduce_mean(tf.nn.softmax_cross_entropy_with_logits(logits=logits, labels=y))\n",
    "    optimizer = tf.train.GradientDescentOptimizer(learning_rate=learning_rate).minimize(cost)"
   ]
  },
  {
   "cell_type": "markdown",
   "metadata": {
    "deletable": true,
    "editable": true
   },
   "source": [
    "### Accuracy"
   ]
  },
  {
   "cell_type": "code",
   "execution_count": 72,
   "metadata": {
    "collapsed": false,
    "deletable": true,
    "editable": true
   },
   "outputs": [],
   "source": [
    "with tf.name_scope('prediction'):\n",
    "    prediction = tf.argmax(logits, 1)\n",
    "\n",
    "with tf.name_scope('accuracy'):\n",
    "    correct_pred = tf.equal(prediction,(tf.argmax(y, 1)))\n",
    "    accuracy = tf.reduce_mean(tf.cast(correct_pred, tf.float32), name='accuracy')"
   ]
  },
  {
   "cell_type": "markdown",
   "metadata": {
    "collapsed": true,
    "deletable": true,
    "editable": true
   },
   "source": [
    "## Training the neural net"
   ]
  },
  {
   "cell_type": "code",
   "execution_count": 73,
   "metadata": {
    "collapsed": false,
    "deletable": true,
    "editable": true
   },
   "outputs": [],
   "source": [
    "def batch_creator(features, labels, batch_size, val_size=None):\n",
    "    for start in range(0, len(features), batch_size):\n",
    "        end = min(start + batch_size, len(features))\n",
    "        if val_size is not None:\n",
    "            feat_batch_train, feat_batch_val, lab_batch_train, lab_batch_val = train_test_split(features[start:end],\n",
    "                                                                                                labels[start:end],\n",
    "                                                                                                test_size=val_size)\n",
    "            yield feat_batch_train, feat_batch_val, lab_batch_train, lab_batch_val\n",
    "        else:\n",
    "            yield features[start:end], labels[start:end]"
   ]
  },
  {
   "cell_type": "code",
   "execution_count": 74,
   "metadata": {
    "collapsed": true,
    "deletable": true,
    "editable": true
   },
   "outputs": [],
   "source": [
    "epochs = 100\n",
    "batch_size = 160\n",
    "val_size = 0.2\n",
    "train_keep_prob = 0.5\n",
    "learn_rate = 0.01\n",
    "display_step = 1"
   ]
  },
  {
   "cell_type": "code",
   "execution_count": null,
   "metadata": {
    "collapsed": false,
    "deletable": true,
    "editable": true
   },
   "outputs": [
    {
     "name": "stdout",
     "output_type": "stream",
     "text": [
      "Epoch    0/  99|Iteration   345 => loss:    2.2723 | train: 0.1902 | val: 0.1848 | time per interation: 0.737 seconds\n",
      "Epoch    1/  99|Iteration   689 => loss:    2.2624 | train: 0.1898 | val: 0.1872 | time per interation: 0.738 seconds\n",
      "Epoch    2/  99|Iteration  1033 => loss:    2.2553 | train: 0.1902 | val: 0.1858 | time per interation: 0.738 seconds\n",
      "Epoch    3/  99|Iteration  1377 => loss:    2.2509 | train: 0.1903 | val: 0.1859 | time per interation: 0.738 seconds\n",
      "Epoch    4/  99|Iteration  1721 => loss:    2.2478 | train: 0.1902 | val: 0.1860 | time per interation: 0.738 seconds\n",
      "Epoch    5/  99|Iteration  2065 => loss:    2.2459 | train: 0.1900 | val: 0.1870 | time per interation: 0.738 seconds\n",
      "Epoch    6/  99|Iteration  2409 => loss:    2.2446 | train: 0.1899 | val: 0.1877 | time per interation: 0.738 seconds\n",
      "Epoch    7/  99|Iteration  2753 => loss:    2.2436 | train: 0.1896 | val: 0.1886 | time per interation: 0.738 seconds\n",
      "Epoch    8/  99|Iteration  3097 => loss:    2.2427 | train: 0.1896 | val: 0.1887 | time per interation: 0.738 seconds\n"
     ]
    }
   ],
   "source": [
    "init = tf.global_variables_initializer()\n",
    "\n",
    "train_acc_results = []\n",
    "val_acc_results = []\n",
    "images_samples = []\n",
    "loss = 0\n",
    "train_acc = 0\n",
    "val_acc = 0\n",
    "\n",
    "with tf.Session() as sess:\n",
    "    sess.run(init)\n",
    "    tf.summary.FileWriter('/tmp/vgg', sess.graph)\n",
    "    iteration = 1\n",
    "    start = time.time()\n",
    "    for epoch in range(epochs):\n",
    "        for X_batch_train, X_batch_val, y_batch_train, y_batch_val in batch_creator(X_train, y_train, batch_size, val_size):\n",
    "            train_feed_dict = {x: X_batch_train,\n",
    "                               y: y_batch_train,\n",
    "                               keep_prob: train_keep_prob,\n",
    "                               learning_rate: learn_rate\n",
    "                              }\n",
    "            sess.run(optimizer, feed_dict=train_feed_dict)\n",
    "            loss += sess.run(cost, feed_dict=train_feed_dict)\n",
    "            train_acc += sess.run(accuracy, feed_dict=train_feed_dict)\n",
    "            \n",
    "            val_feed_dict = {x: X_batch_val,\n",
    "                             y: y_batch_val,\n",
    "                             keep_prob: 1.0\n",
    "                            }\n",
    "            val_acc += sess.run(accuracy, feed_dict=val_feed_dict)\n",
    "            iteration += 1\n",
    "        \n",
    "        end = time.time()\n",
    "        train_acc_results.append(train_acc / iteration * 1.)\n",
    "        val_acc_results.append(val_acc / iteration * 1.)\n",
    "        \n",
    "        if epoch % display_step == 0 or epoch + 1 == epochs:\n",
    "            print('Epoch {:4d}/{:4d}|Iteration {:5d} => \\\n",
    "loss:{:10.4f} | train: {:.4f} | val: {:.4f} | time per interation: {:.3f} seconds'.format(epoch,\n",
    "                                                                                          epochs - 1, \n",
    "                                                                                          iteration,\n",
    "                                                                                          loss / iteration * 1.,\n",
    "                                                                                          train_acc / iteration * 1.,\n",
    "                                                                                          val_acc / iteration * 1.,\n",
    "                                                                                          (end - start) / iteration * 1.))\n",
    "            \n",
    "    rand_image = np.random.randint(0, high=len(X_train))\n",
    "    sample_image = X_train[rand_image]\n",
    "    plt.axis('off')\n",
    "    plt.imshow(sample_image)\n",
    "    plt.title('Sanity Check - Prediction on training data\\nPrediction: {} | True: {}'.format(sess.run(prediction,\n",
    "                                                                        feed_dict={x:X_train[rand_image].reshape((-1, 32, 32, 3)),\n",
    "                                                                                   keep_prob:1.0\n",
    "                                                                                  }),\n",
    "                                                               np.where(y_train[rand_image] == 1)[0] + 1))\n",
    "    plt.show()"
   ]
  },
  {
   "cell_type": "code",
   "execution_count": null,
   "metadata": {
    "collapsed": false,
    "deletable": true,
    "editable": true
   },
   "outputs": [],
   "source": [
    "plt.plot(range(len(train_acc_results)), val_acc_results, label='Validation')\n",
    "plt.plot(range(len(train_acc_results)), train_acc_results, label='Train')\n",
    "plt.title('Train and Validation accuracy')\n",
    "plt.legend()\n",
    "plt.show()"
   ]
  },
  {
   "cell_type": "code",
   "execution_count": 40,
   "metadata": {
    "collapsed": false,
    "deletable": true,
    "editable": true
   },
   "outputs": [
    {
     "data": {
      "image/png": "[encoded data removed]",
      "text/plain": [
       "<matplotlib.figure.Figure at 0x7f5d3f1b0c50>"
      ]
     },
     "metadata": {},
     "output_type": "display_data"
    }
   ],
   "source": [
    "test_acc = 0\n",
    "with tf.Session() as sess:\n",
    "    sess.run(init)\n",
    "    iteration = 1\n",
    "    for X_batch_test, y_batch_test in batch_creator(X_test, y_test, batch_size):\n",
    "        feed = {x: X_batch_test,\n",
    "                y: y_batch_test,\n",
    "                keep_prob: 1.0\n",
    "               }\n",
    "        test_acc += sess.run(accuracy, feed_dict=feed)\n",
    "        iteration += 1\n",
    "    \n",
    "    rand_image = np.random.randint(0, high=len(X_test))\n",
    "    sample_image = X_test[rand_image]\n",
    "    plt.axis('off')\n",
    "    plt.imshow(sample_image)\n",
    "    plt.title('Test accuracy: {:.4f}\\nPrediction: {} | True: {}'.format(test_acc / iteration * 1.,\n",
    "                                                                        sess.run(prediction,\n",
    "                                                                                 feed_dict={x:X_test[rand_image].reshape((-1, 32, 32, 3)),\n",
    "                                                                                            keep_prob:1.0\n",
    "                                                                                           }),\n",
    "                                                                        np.where(y_test[rand_image] == 1)[0] + 1))\n",
    "    plt.show()"
   ]
  },
  {
   "cell_type": "code",
   "execution_count": null,
   "metadata": {
    "collapsed": true,
    "deletable": true,
    "editable": true
   },
   "outputs": [],
   "source": []
  }
 ],
 "metadata": {
  "kernelspec": {
   "display_name": "Python 3",
   "language": "python",
   "name": "python3"
  },
  "widgets": {
   "state": {},
   "version": "1.1.2"
  }
 },
 "nbformat": 4,
 "nbformat_minor": 2
}
