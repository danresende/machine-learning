{
 "cells": [
  {
   "cell_type": "markdown",
   "metadata": {},
   "source": [
    "# The Street View House Numbers (SVHN) Dataset\n",
    "\n",
    "SVHN is a real-world image dataset for developing machine learning and object recognition algorithms with minimal requirement on data preprocessing and formatting. It can be seen as similar in flavor to MNIST (e.g., the images are of small cropped digits), but incorporates an order of magnitude more labeled data (over 600,000 digit images) and comes from a significantly harder, unsolved, real world problem (recognizing digits and numbers in natural scene images). SVHN is obtained from house numbers in Google Street View images. The dataset and more information can be founded [`here`](http://ufldl.stanford.edu/housenumbers/)."
   ]
  },
  {
   "cell_type": "markdown",
   "metadata": {},
   "source": [
    "## Loading libraries"
   ]
  },
  {
   "cell_type": "code",
   "execution_count": 1,
   "metadata": {
    "collapsed": true
   },
   "outputs": [],
   "source": [
    "import os\n",
    "import time\n",
    "import pickle\n",
    "import numpy as np\n",
    "import tensorflow as tf\n",
    "from __future__ import print_function\n",
    "from tqdm import tqdm\n",
    "from urllib import urlretrieve\n",
    "from scipy.io import loadmat\n",
    "from sklearn.model_selection import train_test_split\n",
    "\n",
    "from helpers import display_sample_images, preprocess_images, one_hot_encode, batch_creator\n",
    "\n",
    "%matplotlib inline\n",
    "tf.reset_default_graph()"
   ]
  },
  {
   "cell_type": "markdown",
   "metadata": {},
   "source": [
    "## Loading VGG-16 trained model"
   ]
  },
  {
   "cell_type": "code",
   "execution_count": 2,
   "metadata": {},
   "outputs": [
    {
     "name": "stderr",
     "output_type": "stream",
     "text": [
      "VGG16 Parameters: 553MB [00:09, 60.1MB/s]                            "
     ]
    },
    {
     "name": "stdout",
     "output_type": "stream",
     "text": [
      "Model loaded!\n"
     ]
    },
    {
     "name": "stderr",
     "output_type": "stream",
     "text": [
      "\n"
     ]
    }
   ],
   "source": [
    "class DLProgress(tqdm):\n",
    "    last_block = 0\n",
    "\n",
    "    def hook(self, block_num=1, block_size=1, total_size=None):\n",
    "        self.total = total_size\n",
    "        self.update((block_num - self.last_block) * block_size)\n",
    "        self.last_block = block_num\n",
    "\n",
    "if not os.path.isfile('./tensorflow_vgg/vgg16.npy'):\n",
    "    try:\n",
    "        from tensorflow_vvg import vgg16\n",
    "    except:\n",
    "        !git clone https://github.com/machrisaa/tensorflow-vgg.git tensorflow_vgg\n",
    "        from tensorflow_vgg import vgg16\n",
    "\n",
    "    with DLProgress(unit='B', unit_scale=True, miniters=1, desc='VGG16 Parameters') as pbar:\n",
    "        urlretrieve(\n",
    "            'https://s3.amazonaws.com/content.udacity-data.com/nd101/vgg16.npy',\n",
    "            './tensorflow_vgg/vgg16.npy',\n",
    "            pbar.hook)\n",
    "\n",
    "print('Model loaded!')"
   ]
  },
  {
   "cell_type": "markdown",
   "metadata": {},
   "source": [
    "## Load the dataset"
   ]
  },
  {
   "cell_type": "code",
   "execution_count": 3,
   "metadata": {},
   "outputs": [
    {
     "name": "stderr",
     "output_type": "stream",
     "text": [
      "SVHN Dataset: 182MB [00:12, 14.5MB/s]                              \n"
     ]
    },
    {
     "name": "stdout",
     "output_type": "stream",
     "text": [
      "Data loaded!\n"
     ]
    }
   ],
   "source": [
    "if not os.path.isfile('../data/train_32x32.mat'):\n",
    "    os.mkdir('../data')\n",
    "    with DLProgress(unit='B', unit_scale=True, miniters=1, desc='SVHN Dataset') as pbar:\n",
    "        urlretrieve(\n",
    "            'http://ufldl.stanford.edu/housenumbers/train_32x32.mat',\n",
    "            '../data/train_32x32.mat',\n",
    "            pbar.hook)\n",
    "\n",
    "svhn_data = loadmat('../data/train_32x32.mat')\n",
    "print('Data loaded!')"
   ]
  },
  {
   "cell_type": "markdown",
   "metadata": {},
   "source": [
    "## Understanding the dataset"
   ]
  },
  {
   "cell_type": "code",
   "execution_count": 4,
   "metadata": {},
   "outputs": [
    {
     "name": "stdout",
     "output_type": "stream",
     "text": [
      "<type 'dict'>\n",
      "['y', 'X', '__version__', '__header__', '__globals__']\n"
     ]
    }
   ],
   "source": [
    "print(type(svhn_data))\n",
    "print(svhn_data.keys())"
   ]
  },
  {
   "cell_type": "code",
   "execution_count": 5,
   "metadata": {},
   "outputs": [
    {
     "name": "stdout",
     "output_type": "stream",
     "text": [
      "X: 73257 (32 x 32 x 3) images\n",
      "y: 73257 (1) labels\n",
      "First 30 labels: [[1 9 2 3 2 5 9 3 3 1 3 3 2 8 7 4 4 1 2 8 1 6 2 3 6 3 4 2 5 8]]\n",
      "Label Counts: {1: 13861, 2: 10585, 3: 8497, 4: 7458, 5: 6882, 6: 5727, 7: 5595, 8: 5045, 9: 4659, 10: 4948}\n"
     ]
    }
   ],
   "source": [
    "features = svhn_data['X']\n",
    "labels = svhn_data['y']\n",
    "\n",
    "print('X: {} ({} x {} x {}) images'.format(features.shape[3], features.shape[0],\n",
    "                                           features.shape[1], features.shape[2]))\n",
    "print('y: {} ({}) labels'.format(labels.shape[0], labels.shape[1]))\n",
    "print('First 30 labels: {}'.format(labels[:30].reshape((1,-1))))\n",
    "print('Label Counts: {}'.format(dict(zip(*np.unique(labels, return_counts=True)))))"
   ]
  },
  {
   "cell_type": "code",
   "execution_count": 6,
   "metadata": {},
   "outputs": [
    {
     "data": {
      "image/png": "[encoded data removed]",
      "text/plain": [
       "<matplotlib.figure.Figure at 0x7fdd2151fed0>"
      ]
     },
     "metadata": {},
     "output_type": "display_data"
    }
   ],
   "source": [
    "display_sample_images(features, labels, 4)"
   ]
  },
  {
   "cell_type": "markdown",
   "metadata": {},
   "source": [
    "## Transfering learning (using a trained net)"
   ]
  },
  {
   "cell_type": "code",
   "execution_count": 7,
   "metadata": {},
   "outputs": [
    {
     "name": "stdout",
     "output_type": "stream",
     "text": [
      "/home/carnd/machine-learning/mlnd_capstone/project/tensorflow_vgg/vgg16.npy\n",
      "npy file loaded\n",
      "build model started\n"
     ]
    },
    {
     "name": "stderr",
     "output_type": "stream",
     "text": [
      "\r",
      "Training: 0it [00:00, ?it/s]"
     ]
    },
    {
     "name": "stdout",
     "output_type": "stream",
     "text": [
      "build model finished: 0s\n"
     ]
    },
    {
     "name": "stderr",
     "output_type": "stream",
     "text": [
      "Training: 9158it [1:48:26,  1.30s/it]\n"
     ]
    }
   ],
   "source": [
    "if not os.path.isfile('./code_data.pkl'):\n",
    "    batch_size = 8\n",
    "    codes = None\n",
    "    with tf.Session() as sess:\n",
    "        vgg = vgg16.Vgg16()\n",
    "        images = tf.placeholder(tf.float32, [None, 224, 224, 3])\n",
    "        with tf.name_scope('content_vgg'):\n",
    "            vgg.build(images)\n",
    "    \n",
    "        for batch, _ in tqdm(batch_creator(features, labels, batch_size), desc='Training'):\n",
    "            processed_batch = preprocess_images(batch)\n",
    "            feed_dict = {images: processed_batch}\n",
    "            codes_batch = sess.run(vgg.relu6, feed_dict=feed_dict)\n",
    "            if codes is None:\n",
    "                codes = codes_batch\n",
    "            else:\n",
    "                codes = np.concatenate((codes, codes_batch))\n",
    "        \n",
    "    with open('./code_data.pkl', 'wb') as f:\n",
    "        pickle.dump(codes, f)"
   ]
  },
  {
   "cell_type": "markdown",
   "metadata": {},
   "source": [
    "## Preporcessing part trained data"
   ]
  },
  {
   "cell_type": "code",
   "execution_count": 8,
   "metadata": {},
   "outputs": [
    {
     "name": "stdout",
     "output_type": "stream",
     "text": [
      "(73257, 4096)\n"
     ]
    }
   ],
   "source": [
    "with open('./code_data.pkl', 'rb') as f:\n",
    "    codes = pickle.load(f)\n",
    "print(codes.shape)"
   ]
  },
  {
   "cell_type": "code",
   "execution_count": 9,
   "metadata": {},
   "outputs": [
    {
     "name": "stdout",
     "output_type": "stream",
     "text": [
      "-0.40561 19.913\n"
     ]
    }
   ],
   "source": [
    "def normalize_data(features):\n",
    "    return (features - np.mean(features)) / np.std(features)\n",
    "\n",
    "norm_codes = normalize_data(codes)\n",
    "print(np.min(norm_codes), np.max(norm_codes))"
   ]
  },
  {
   "cell_type": "code",
   "execution_count": 10,
   "metadata": {},
   "outputs": [
    {
     "name": "stdout",
     "output_type": "stream",
     "text": [
      "(73257, 10)\n"
     ]
    }
   ],
   "source": [
    "one_hot_labels = one_hot_encode(labels)\n",
    "print(one_hot_labels.shape)"
   ]
  },
  {
   "cell_type": "code",
   "execution_count": 11,
   "metadata": {
    "collapsed": true
   },
   "outputs": [],
   "source": [
    "reduce_data = 20000"
   ]
  },
  {
   "cell_type": "code",
   "execution_count": 12,
   "metadata": {
    "collapsed": true
   },
   "outputs": [],
   "source": [
    "total_size = codes.shape[0]\n",
    "\n",
    "if reduce_data is not None:\n",
    "    total_size = reduce_data\n",
    "\n",
    "train_size = 0.6\n",
    "idx = np.arange(total_size)\n",
    "np.random.shuffle(idx)\n",
    "idx = list(idx)\n",
    "split_point = int(total_size * train_size)\n",
    "train_idx = idx[:split_point]\n",
    "test_idx = idx[split_point:]"
   ]
  },
  {
   "cell_type": "code",
   "execution_count": 13,
   "metadata": {},
   "outputs": [
    {
     "name": "stdout",
     "output_type": "stream",
     "text": [
      "Train features: (12000, 4096) | Test features: (8000, 4096)\n",
      "Train labels:   (12000, 10)   | Test labels:   (8000, 10)\n"
     ]
    }
   ],
   "source": [
    "X_train = norm_codes[train_idx]\n",
    "y_train = one_hot_labels[train_idx]\n",
    "X_test = norm_codes[test_idx]\n",
    "y_test = one_hot_labels[test_idx]\n",
    "\n",
    "print('Train features: {} | Test features: {}'.format(X_train.shape, X_test.shape))\n",
    "print('Train labels:   {}   | Test labels:   {}'.format(y_train.shape, y_test.shape))"
   ]
  },
  {
   "cell_type": "markdown",
   "metadata": {},
   "source": [
    "## Building the Neural Net"
   ]
  },
  {
   "cell_type": "code",
   "execution_count": 38,
   "metadata": {},
   "outputs": [],
   "source": [
    "inputs_ = tf.placeholder(tf.float32, [None, codes.shape[1]])\n",
    "labels_ = tf.placeholder(tf.float32, [None, one_hot_labels.shape[1]])\n",
    "learning_rate = tf.placeholder(tf.float32)\n",
    "keep_prob = tf.placeholder(tf.float32)\n",
    "\n",
    "with tf.name_scope('fully_conn_content'):\n",
    "    # continues the VGG16 architecture\n",
    "    drop6 = tf.nn.dropout(inputs_, keep_prob)\n",
    "    fc7 = tf.layers.dense(drop6, 4096, activation=tf.nn.relu)\n",
    "    drop7 = tf.nn.dropout(fc7, keep_prob)\n",
    "    logits = tf.layers.dense(drop7, one_hot_labels.shape[1])\n",
    "\n",
    "cost = tf.reduce_mean(tf.nn.softmax_cross_entropy_with_logits(logits=logits, labels=labels_), name='cost')\n",
    "\n",
    "with tf.name_scope('optimizer'):\n",
    "    optimizer = tf.train.AdamOptimizer(learning_rate).minimize(cost)\n",
    "\n",
    "predicted = tf.nn.softmax(logits)\n",
    "correct_pred = tf.equal(tf.argmax(predicted, 1), tf.argmax(labels_, 1))\n",
    "accuracy = tf.reduce_mean(tf.cast(correct_pred, tf.float32))"
   ]
  },
  {
   "cell_type": "markdown",
   "metadata": {},
   "source": [
    "## Trainning the model"
   ]
  },
  {
   "cell_type": "code",
   "execution_count": 39,
   "metadata": {
    "collapsed": true
   },
   "outputs": [],
   "source": [
    "epochs = 300\n",
    "batch_size = 10240\n",
    "val_size = 0.2\n",
    "learn_rate = 0.01\n",
    "keep_probability = 0.5\n",
    "display_epoch = 10"
   ]
  },
  {
   "cell_type": "code",
   "execution_count": 41,
   "metadata": {},
   "outputs": [
    {
     "name": "stdout",
     "output_type": "stream",
     "text": [
      "Epoch    0 | Train loss 337.645 | Train acc 0.102 | Val loss 444.919 | Val acc 0.148\n",
      "Epoch    1 | Train loss 432.281 | Train acc 0.116 | Val loss 327.970 | Val acc 0.074\n",
      "Epoch    2 | Train loss 200.434 | Train acc 0.097 | Val loss 62.560 | Val acc 0.085\n",
      "Epoch    3 | Train loss 15.644 | Train acc 0.192 | Val loss 2.690 | Val acc 0.088\n",
      "Epoch    4 | Train loss 2.419 | Train acc 0.130 | Val loss 2.314 | Val acc 0.068\n",
      "Epoch    5 | Train loss 2.305 | Train acc 0.069 | Val loss 2.300 | Val acc 0.057\n",
      "Epoch    6 | Train loss 2.303 | Train acc 0.072 | Val loss 2.300 | Val acc 0.188\n",
      "Epoch    7 | Train loss 2.299 | Train acc 0.180 | Val loss 2.299 | Val acc 0.199\n",
      "Epoch    8 | Train loss 2.298 | Train acc 0.187 | Val loss 2.298 | Val acc 0.173\n",
      "Epoch    9 | Train loss 2.296 | Train acc 0.182 | Val loss 2.296 | Val acc 0.193\n",
      "Epoch   10 | Train loss 2.295 | Train acc 0.180 | Val loss 2.294 | Val acc 0.199\n",
      "Epoch   11 | Train loss 2.292 | Train acc 0.188 | Val loss 2.294 | Val acc 0.173\n",
      "Epoch   12 | Train loss 2.292 | Train acc 0.180 | Val loss 2.289 | Val acc 0.202\n",
      "Epoch   13 | Train loss 2.289 | Train acc 0.182 | Val loss 2.287 | Val acc 0.196\n",
      "Epoch   14 | Train loss 2.287 | Train acc 0.186 | Val loss 2.285 | Val acc 0.176\n",
      "Epoch   15 | Train loss 2.285 | Train acc 0.183 | Val loss 2.283 | Val acc 0.193\n",
      "Epoch   16 | Train loss 2.281 | Train acc 0.186 | Val loss 2.279 | Val acc 0.179\n",
      "Epoch   17 | Train loss 2.279 | Train acc 0.184 | Val loss 2.282 | Val acc 0.185\n",
      "Epoch   18 | Train loss 2.277 | Train acc 0.191 | Val loss 2.279 | Val acc 0.159\n",
      "Epoch   19 | Train loss 2.276 | Train acc 0.183 | Val loss 2.274 | Val acc 0.190\n",
      "Epoch   20 | Train loss 2.273 | Train acc 0.190 | Val loss 2.276 | Val acc 0.159\n",
      "Epoch   21 | Train loss 2.273 | Train acc 0.190 | Val loss 2.270 | Val acc 0.165\n",
      "Epoch   22 | Train loss 2.270 | Train acc 0.174 | Val loss 2.262 | Val acc 0.227\n",
      "Epoch   23 | Train loss 2.270 | Train acc 0.186 | Val loss 2.260 | Val acc 0.176\n",
      "Epoch   24 | Train loss 2.267 | Train acc 0.173 | Val loss 2.256 | Val acc 0.233\n",
      "Epoch   25 | Train loss 2.262 | Train acc 0.184 | Val loss 2.265 | Val acc 0.193\n",
      "Epoch   26 | Train loss 2.258 | Train acc 0.185 | Val loss 2.258 | Val acc 0.196\n",
      "Epoch   27 | Train loss 2.256 | Train acc 0.186 | Val loss 2.267 | Val acc 0.185\n",
      "Epoch   28 | Train loss 2.260 | Train acc 0.181 | Val loss 2.250 | Val acc 0.202\n",
      "Epoch   29 | Train loss 2.258 | Train acc 0.183 | Val loss 2.254 | Val acc 0.188\n",
      "Epoch   30 | Train loss 2.256 | Train acc 0.187 | Val loss 2.250 | Val acc 0.176\n",
      "Epoch   31 | Train loss 2.251 | Train acc 0.191 | Val loss 2.265 | Val acc 0.159\n",
      "Epoch   32 | Train loss 2.254 | Train acc 0.180 | Val loss 2.248 | Val acc 0.202\n",
      "Epoch   33 | Train loss 2.253 | Train acc 0.178 | Val loss 2.243 | Val acc 0.210\n",
      "Epoch   34 | Train loss 2.248 | Train acc 0.184 | Val loss 2.259 | Val acc 0.188\n",
      "Epoch   35 | Train loss 2.248 | Train acc 0.185 | Val loss 2.252 | Val acc 0.182\n",
      "Epoch   36 | Train loss 2.245 | Train acc 0.185 | Val loss 2.259 | Val acc 0.179\n",
      "Epoch   37 | Train loss 2.247 | Train acc 0.182 | Val loss 2.247 | Val acc 0.193\n",
      "Epoch   38 | Train loss 2.245 | Train acc 0.187 | Val loss 2.247 | Val acc 0.179\n",
      "Epoch   39 | Train loss 2.247 | Train acc 0.185 | Val loss 2.239 | Val acc 0.182\n",
      "Epoch   40 | Train loss 2.245 | Train acc 0.188 | Val loss 2.242 | Val acc 0.170\n",
      "Epoch   41 | Train loss 2.241 | Train acc 0.188 | Val loss 2.242 | Val acc 0.173\n",
      "Epoch   42 | Train loss 2.244 | Train acc 0.184 | Val loss 2.236 | Val acc 0.190\n",
      "Epoch   43 | Train loss 2.241 | Train acc 0.188 | Val loss 2.240 | Val acc 0.173\n",
      "Epoch   44 | Train loss 2.243 | Train acc 0.188 | Val loss 2.236 | Val acc 0.168\n",
      "Epoch   45 | Train loss 2.239 | Train acc 0.186 | Val loss 2.248 | Val acc 0.176\n",
      "Epoch   46 | Train loss 2.233 | Train acc 0.190 | Val loss 2.269 | Val acc 0.162\n",
      "Epoch   47 | Train loss 2.235 | Train acc 0.191 | Val loss 2.256 | Val acc 0.159\n",
      "Epoch   48 | Train loss 2.243 | Train acc 0.181 | Val loss 2.227 | Val acc 0.196\n",
      "Epoch   49 | Train loss 2.236 | Train acc 0.183 | Val loss 2.254 | Val acc 0.188\n",
      "Epoch   50 | Train loss 2.243 | Train acc 0.181 | Val loss 2.219 | Val acc 0.199\n",
      "Epoch   51 | Train loss 2.243 | Train acc 0.181 | Val loss 2.221 | Val acc 0.196\n",
      "Epoch   52 | Train loss 2.235 | Train acc 0.181 | Val loss 2.244 | Val acc 0.199\n",
      "Epoch   53 | Train loss 2.236 | Train acc 0.184 | Val loss 2.240 | Val acc 0.188\n",
      "Epoch   54 | Train loss 2.237 | Train acc 0.186 | Val loss 2.233 | Val acc 0.179\n",
      "Epoch   55 | Train loss 2.241 | Train acc 0.180 | Val loss 2.222 | Val acc 0.202\n",
      "Epoch   56 | Train loss 2.233 | Train acc 0.191 | Val loss 2.252 | Val acc 0.156\n",
      "Epoch   57 | Train loss 2.238 | Train acc 0.185 | Val loss 2.232 | Val acc 0.179\n",
      "Epoch   58 | Train loss 2.235 | Train acc 0.187 | Val loss 2.237 | Val acc 0.176\n",
      "Epoch   59 | Train loss 2.230 | Train acc 0.187 | Val loss 2.260 | Val acc 0.173\n",
      "Epoch   60 | Train loss 2.234 | Train acc 0.188 | Val loss 2.242 | Val acc 0.168\n",
      "Epoch   61 | Train loss 2.239 | Train acc 0.180 | Val loss 2.224 | Val acc 0.202\n",
      "Epoch   62 | Train loss 2.236 | Train acc 0.185 | Val loss 2.229 | Val acc 0.185\n",
      "Epoch   63 | Train loss 2.228 | Train acc 0.195 | Val loss 2.258 | Val acc 0.142\n",
      "Epoch   64 | Train loss 2.231 | Train acc 0.185 | Val loss 2.246 | Val acc 0.182\n",
      "Epoch   65 | Train loss 2.237 | Train acc 0.182 | Val loss 2.223 | Val acc 0.196\n",
      "Epoch   66 | Train loss 2.240 | Train acc 0.179 | Val loss 2.213 | Val acc 0.207\n",
      "Epoch   67 | Train loss 2.236 | Train acc 0.183 | Val loss 2.232 | Val acc 0.190\n",
      "Epoch   68 | Train loss 2.238 | Train acc 0.183 | Val loss 2.220 | Val acc 0.190\n",
      "Epoch   69 | Train loss 2.238 | Train acc 0.182 | Val loss 2.221 | Val acc 0.193\n",
      "Epoch   70 | Train loss 2.231 | Train acc 0.189 | Val loss 2.248 | Val acc 0.165\n",
      "Epoch   71 | Train loss 2.233 | Train acc 0.186 | Val loss 2.236 | Val acc 0.179\n",
      "Epoch   72 | Train loss 2.234 | Train acc 0.184 | Val loss 2.235 | Val acc 0.185\n",
      "Epoch   73 | Train loss 2.237 | Train acc 0.187 | Val loss 2.224 | Val acc 0.173\n",
      "Epoch   74 | Train loss 2.238 | Train acc 0.183 | Val loss 2.221 | Val acc 0.190\n",
      "Epoch   75 | Train loss 2.237 | Train acc 0.186 | Val loss 2.224 | Val acc 0.176\n",
      "Epoch   76 | Train loss 2.237 | Train acc 0.178 | Val loss 2.220 | Val acc 0.210\n",
      "Epoch   77 | Train loss 2.238 | Train acc 0.178 | Val loss 2.214 | Val acc 0.213\n",
      "Epoch   78 | Train loss 2.231 | Train acc 0.188 | Val loss 2.242 | Val acc 0.170\n",
      "Epoch   79 | Train loss 2.227 | Train acc 0.187 | Val loss 2.259 | Val acc 0.176\n",
      "Epoch   80 | Train loss 2.234 | Train acc 0.183 | Val loss 2.230 | Val acc 0.190\n",
      "Epoch   81 | Train loss 2.240 | Train acc 0.184 | Val loss 2.205 | Val acc 0.188\n",
      "Epoch   82 | Train loss 2.236 | Train acc 0.178 | Val loss 2.223 | Val acc 0.213\n",
      "Epoch   83 | Train loss 2.236 | Train acc 0.183 | Val loss 2.226 | Val acc 0.188\n",
      "Epoch   84 | Train loss 2.241 | Train acc 0.174 | Val loss 2.204 | Val acc 0.224\n",
      "Epoch   85 | Train loss 2.235 | Train acc 0.183 | Val loss 2.231 | Val acc 0.188\n",
      "Epoch   86 | Train loss 2.223 | Train acc 0.192 | Val loss 2.278 | Val acc 0.151\n",
      "Epoch   87 | Train loss 2.233 | Train acc 0.185 | Val loss 2.238 | Val acc 0.182\n",
      "Epoch   88 | Train loss 2.245 | Train acc 0.179 | Val loss 2.190 | Val acc 0.205\n",
      "Epoch   89 | Train loss 2.232 | Train acc 0.185 | Val loss 2.240 | Val acc 0.179\n",
      "Epoch   90 | Train loss 2.230 | Train acc 0.189 | Val loss 2.248 | Val acc 0.165\n",
      "Epoch   91 | Train loss 2.236 | Train acc 0.184 | Val loss 2.225 | Val acc 0.185\n",
      "Epoch   92 | Train loss 2.233 | Train acc 0.189 | Val loss 2.235 | Val acc 0.165\n",
      "Epoch   93 | Train loss 2.229 | Train acc 0.190 | Val loss 2.253 | Val acc 0.159\n",
      "Epoch   94 | Train loss 2.234 | Train acc 0.188 | Val loss 2.230 | Val acc 0.168\n",
      "Epoch   95 | Train loss 2.229 | Train acc 0.192 | Val loss 2.251 | Val acc 0.151\n",
      "Epoch   96 | Train loss 2.241 | Train acc 0.181 | Val loss 2.205 | Val acc 0.196\n",
      "Epoch   97 | Train loss 2.227 | Train acc 0.186 | Val loss 2.260 | Val acc 0.176\n",
      "Epoch   98 | Train loss 2.232 | Train acc 0.190 | Val loss 2.236 | Val acc 0.162\n",
      "Epoch   99 | Train loss 2.234 | Train acc 0.180 | Val loss 2.231 | Val acc 0.202\n",
      "Epoch  100 | Train loss 2.233 | Train acc 0.185 | Val loss 2.236 | Val acc 0.182\n"
     ]
    },
    {
     "name": "stdout",
     "output_type": "stream",
     "text": [
      "Epoch  101 | Train loss 2.232 | Train acc 0.189 | Val loss 2.239 | Val acc 0.165\n",
      "Epoch  102 | Train loss 2.232 | Train acc 0.185 | Val loss 2.233 | Val acc 0.185\n",
      "Epoch  103 | Train loss 2.234 | Train acc 0.187 | Val loss 2.227 | Val acc 0.176\n",
      "Epoch  104 | Train loss 2.237 | Train acc 0.173 | Val loss 2.217 | Val acc 0.233\n",
      "Epoch  105 | Train loss 2.235 | Train acc 0.185 | Val loss 2.224 | Val acc 0.185\n",
      "Epoch  106 | Train loss 2.238 | Train acc 0.188 | Val loss 2.212 | Val acc 0.170\n",
      "Epoch  107 | Train loss 2.229 | Train acc 0.186 | Val loss 2.247 | Val acc 0.179\n",
      "Epoch  108 | Train loss 2.232 | Train acc 0.186 | Val loss 2.239 | Val acc 0.176\n",
      "Epoch  109 | Train loss 2.233 | Train acc 0.185 | Val loss 2.233 | Val acc 0.182\n",
      "Epoch  110 | Train loss 2.231 | Train acc 0.188 | Val loss 2.244 | Val acc 0.170\n",
      "Epoch  111 | Train loss 2.229 | Train acc 0.185 | Val loss 2.254 | Val acc 0.179\n",
      "Epoch  112 | Train loss 2.231 | Train acc 0.185 | Val loss 2.240 | Val acc 0.182\n",
      "Epoch  113 | Train loss 2.241 | Train acc 0.180 | Val loss 2.205 | Val acc 0.202\n",
      "Epoch  114 | Train loss 2.232 | Train acc 0.174 | Val loss 2.238 | Val acc 0.227\n",
      "Epoch  115 | Train loss 2.235 | Train acc 0.180 | Val loss 2.227 | Val acc 0.199\n",
      "Epoch  116 | Train loss 2.237 | Train acc 0.184 | Val loss 2.218 | Val acc 0.188\n",
      "Epoch  117 | Train loss 2.233 | Train acc 0.190 | Val loss 2.230 | Val acc 0.165\n",
      "Epoch  118 | Train loss 2.235 | Train acc 0.183 | Val loss 2.223 | Val acc 0.193\n",
      "Epoch  119 | Train loss 2.231 | Train acc 0.184 | Val loss 2.237 | Val acc 0.188\n",
      "Epoch  120 | Train loss 2.232 | Train acc 0.188 | Val loss 2.240 | Val acc 0.170\n",
      "Epoch  121 | Train loss 2.230 | Train acc 0.185 | Val loss 2.242 | Val acc 0.185\n",
      "Epoch  122 | Train loss 2.235 | Train acc 0.183 | Val loss 2.222 | Val acc 0.190\n",
      "Epoch  123 | Train loss 2.238 | Train acc 0.179 | Val loss 2.211 | Val acc 0.207\n",
      "Epoch  124 | Train loss 2.230 | Train acc 0.195 | Val loss 2.242 | Val acc 0.142\n",
      "Epoch  125 | Train loss 2.241 | Train acc 0.183 | Val loss 2.204 | Val acc 0.188\n",
      "Epoch  126 | Train loss 2.232 | Train acc 0.180 | Val loss 2.236 | Val acc 0.205\n",
      "Epoch  127 | Train loss 2.230 | Train acc 0.187 | Val loss 2.248 | Val acc 0.173\n",
      "Epoch  128 | Train loss 2.230 | Train acc 0.185 | Val loss 2.248 | Val acc 0.179\n",
      "Epoch  129 | Train loss 2.227 | Train acc 0.187 | Val loss 2.259 | Val acc 0.173\n",
      "Epoch  130 | Train loss 2.233 | Train acc 0.185 | Val loss 2.234 | Val acc 0.182\n",
      "Epoch  131 | Train loss 2.233 | Train acc 0.187 | Val loss 2.233 | Val acc 0.173\n",
      "Epoch  132 | Train loss 2.227 | Train acc 0.191 | Val loss 2.261 | Val acc 0.156\n",
      "Epoch  133 | Train loss 2.237 | Train acc 0.178 | Val loss 2.218 | Val acc 0.210\n",
      "Epoch  134 | Train loss 2.240 | Train acc 0.184 | Val loss 2.206 | Val acc 0.185\n",
      "Epoch  135 | Train loss 2.230 | Train acc 0.187 | Val loss 2.241 | Val acc 0.176\n",
      "Epoch  136 | Train loss 2.229 | Train acc 0.185 | Val loss 2.250 | Val acc 0.179\n",
      "Epoch  137 | Train loss 2.239 | Train acc 0.182 | Val loss 2.208 | Val acc 0.193\n",
      "Epoch  138 | Train loss 2.234 | Train acc 0.188 | Val loss 2.230 | Val acc 0.173\n",
      "Epoch  139 | Train loss 2.227 | Train acc 0.180 | Val loss 2.259 | Val acc 0.199\n",
      "Epoch  140 | Train loss 2.226 | Train acc 0.190 | Val loss 2.262 | Val acc 0.165\n",
      "Epoch  141 | Train loss 2.226 | Train acc 0.192 | Val loss 2.259 | Val acc 0.156\n",
      "Epoch  142 | Train loss 2.227 | Train acc 0.188 | Val loss 2.258 | Val acc 0.170\n",
      "Epoch  143 | Train loss 2.236 | Train acc 0.183 | Val loss 2.226 | Val acc 0.188\n",
      "Epoch  144 | Train loss 2.236 | Train acc 0.173 | Val loss 2.216 | Val acc 0.230\n",
      "Epoch  145 | Train loss 2.241 | Train acc 0.180 | Val loss 2.200 | Val acc 0.202\n",
      "Epoch  146 | Train loss 2.227 | Train acc 0.190 | Val loss 2.251 | Val acc 0.165\n",
      "Epoch  147 | Train loss 2.237 | Train acc 0.182 | Val loss 2.222 | Val acc 0.190\n",
      "Epoch  148 | Train loss 2.234 | Train acc 0.178 | Val loss 2.221 | Val acc 0.210\n",
      "Epoch  149 | Train loss 2.235 | Train acc 0.176 | Val loss 2.219 | Val acc 0.222\n",
      "Epoch  150 | Train loss 2.239 | Train acc 0.180 | Val loss 2.211 | Val acc 0.202\n",
      "Epoch  151 | Train loss 2.242 | Train acc 0.175 | Val loss 2.197 | Val acc 0.227\n",
      "Epoch  152 | Train loss 2.237 | Train acc 0.183 | Val loss 2.215 | Val acc 0.193\n",
      "Epoch  153 | Train loss 2.236 | Train acc 0.185 | Val loss 2.225 | Val acc 0.179\n",
      "Epoch  154 | Train loss 2.237 | Train acc 0.189 | Val loss 2.221 | Val acc 0.165\n",
      "Epoch  155 | Train loss 2.232 | Train acc 0.185 | Val loss 2.239 | Val acc 0.179\n",
      "Epoch  156 | Train loss 2.229 | Train acc 0.194 | Val loss 2.250 | Val acc 0.145\n",
      "Epoch  157 | Train loss 2.235 | Train acc 0.187 | Val loss 2.227 | Val acc 0.173\n",
      "Epoch  158 | Train loss 2.230 | Train acc 0.184 | Val loss 2.245 | Val acc 0.188\n",
      "Epoch  159 | Train loss 2.235 | Train acc 0.179 | Val loss 2.221 | Val acc 0.207\n",
      "Epoch  160 | Train loss 2.233 | Train acc 0.185 | Val loss 2.230 | Val acc 0.185\n",
      "Epoch  161 | Train loss 2.236 | Train acc 0.182 | Val loss 2.217 | Val acc 0.196\n",
      "Epoch  162 | Train loss 2.238 | Train acc 0.181 | Val loss 2.208 | Val acc 0.199\n",
      "Epoch  163 | Train loss 2.228 | Train acc 0.192 | Val loss 2.257 | Val acc 0.151\n",
      "Epoch  164 | Train loss 2.235 | Train acc 0.180 | Val loss 2.224 | Val acc 0.202\n",
      "Epoch  165 | Train loss 2.232 | Train acc 0.187 | Val loss 2.234 | Val acc 0.176\n",
      "Epoch  166 | Train loss 2.226 | Train acc 0.192 | Val loss 2.264 | Val acc 0.151\n",
      "Epoch  167 | Train loss 2.234 | Train acc 0.188 | Val loss 2.229 | Val acc 0.170\n",
      "Epoch  168 | Train loss 2.238 | Train acc 0.188 | Val loss 2.213 | Val acc 0.170\n",
      "Epoch  169 | Train loss 2.233 | Train acc 0.186 | Val loss 2.233 | Val acc 0.179\n",
      "Epoch  170 | Train loss 2.238 | Train acc 0.186 | Val loss 2.218 | Val acc 0.176\n",
      "Epoch  171 | Train loss 2.242 | Train acc 0.185 | Val loss 2.196 | Val acc 0.182\n",
      "Epoch  172 | Train loss 2.229 | Train acc 0.187 | Val loss 2.254 | Val acc 0.173\n",
      "Epoch  173 | Train loss 2.240 | Train acc 0.180 | Val loss 2.203 | Val acc 0.202\n",
      "Epoch  174 | Train loss 2.229 | Train acc 0.180 | Val loss 2.248 | Val acc 0.202\n",
      "Epoch  175 | Train loss 2.233 | Train acc 0.187 | Val loss 2.229 | Val acc 0.176\n",
      "Epoch  176 | Train loss 2.232 | Train acc 0.185 | Val loss 2.235 | Val acc 0.182\n",
      "Epoch  177 | Train loss 2.236 | Train acc 0.180 | Val loss 2.218 | Val acc 0.205\n",
      "Epoch  178 | Train loss 2.235 | Train acc 0.178 | Val loss 2.229 | Val acc 0.210\n",
      "Epoch  179 | Train loss 2.231 | Train acc 0.195 | Val loss 2.240 | Val acc 0.145\n",
      "Epoch  180 | Train loss 2.234 | Train acc 0.184 | Val loss 2.233 | Val acc 0.185\n",
      "Epoch  181 | Train loss 2.236 | Train acc 0.188 | Val loss 2.225 | Val acc 0.168\n",
      "Epoch  182 | Train loss 2.231 | Train acc 0.179 | Val loss 2.244 | Val acc 0.205\n",
      "Epoch  183 | Train loss 2.232 | Train acc 0.184 | Val loss 2.240 | Val acc 0.185\n",
      "Epoch  184 | Train loss 2.234 | Train acc 0.181 | Val loss 2.233 | Val acc 0.196\n",
      "Epoch  185 | Train loss 2.222 | Train acc 0.192 | Val loss 2.279 | Val acc 0.153\n",
      "Epoch  186 | Train loss 2.234 | Train acc 0.178 | Val loss 2.233 | Val acc 0.207\n",
      "Epoch  187 | Train loss 2.233 | Train acc 0.181 | Val loss 2.236 | Val acc 0.196\n",
      "Epoch  188 | Train loss 2.230 | Train acc 0.189 | Val loss 2.249 | Val acc 0.165\n",
      "Epoch  189 | Train loss 2.231 | Train acc 0.187 | Val loss 2.241 | Val acc 0.173\n",
      "Epoch  190 | Train loss 2.234 | Train acc 0.185 | Val loss 2.232 | Val acc 0.179\n",
      "Epoch  191 | Train loss 2.235 | Train acc 0.189 | Val loss 2.224 | Val acc 0.165\n",
      "Epoch  192 | Train loss 2.233 | Train acc 0.183 | Val loss 2.230 | Val acc 0.190\n",
      "Epoch  193 | Train loss 2.234 | Train acc 0.188 | Val loss 2.226 | Val acc 0.173\n",
      "Epoch  194 | Train loss 2.232 | Train acc 0.183 | Val loss 2.232 | Val acc 0.193\n",
      "Epoch  195 | Train loss 2.233 | Train acc 0.190 | Val loss 2.231 | Val acc 0.162\n",
      "Epoch  196 | Train loss 2.237 | Train acc 0.184 | Val loss 2.220 | Val acc 0.185\n",
      "Epoch  197 | Train loss 2.234 | Train acc 0.184 | Val loss 2.231 | Val acc 0.185\n",
      "Epoch  198 | Train loss 2.234 | Train acc 0.188 | Val loss 2.232 | Val acc 0.170\n",
      "Epoch  199 | Train loss 2.231 | Train acc 0.192 | Val loss 2.244 | Val acc 0.151\n",
      "Epoch  200 | Train loss 2.230 | Train acc 0.185 | Val loss 2.246 | Val acc 0.182\n",
      "Epoch  201 | Train loss 2.239 | Train acc 0.186 | Val loss 2.212 | Val acc 0.176\n",
      "Epoch  202 | Train loss 2.225 | Train acc 0.192 | Val loss 2.265 | Val acc 0.156\n"
     ]
    },
    {
     "name": "stdout",
     "output_type": "stream",
     "text": [
      "Epoch  203 | Train loss 2.243 | Train acc 0.176 | Val loss 2.197 | Val acc 0.216\n",
      "Epoch  204 | Train loss 2.233 | Train acc 0.183 | Val loss 2.233 | Val acc 0.188\n",
      "Epoch  205 | Train loss 2.234 | Train acc 0.178 | Val loss 2.228 | Val acc 0.210\n",
      "Epoch  206 | Train loss 2.226 | Train acc 0.192 | Val loss 2.263 | Val acc 0.153\n",
      "Epoch  207 | Train loss 2.234 | Train acc 0.189 | Val loss 2.228 | Val acc 0.168\n",
      "Epoch  208 | Train loss 2.226 | Train acc 0.190 | Val loss 2.265 | Val acc 0.162\n",
      "Epoch  209 | Train loss 2.242 | Train acc 0.177 | Val loss 2.196 | Val acc 0.213\n",
      "Epoch  210 | Train loss 2.229 | Train acc 0.183 | Val loss 2.247 | Val acc 0.190\n",
      "Epoch  211 | Train loss 2.223 | Train acc 0.190 | Val loss 2.268 | Val acc 0.162\n",
      "Epoch  212 | Train loss 2.232 | Train acc 0.188 | Val loss 2.238 | Val acc 0.173\n",
      "Epoch  213 | Train loss 2.240 | Train acc 0.173 | Val loss 2.201 | Val acc 0.233\n",
      "Epoch  214 | Train loss 2.237 | Train acc 0.179 | Val loss 2.218 | Val acc 0.205\n",
      "Epoch  215 | Train loss 2.231 | Train acc 0.185 | Val loss 2.237 | Val acc 0.182\n",
      "Epoch  216 | Train loss 2.225 | Train acc 0.187 | Val loss 2.262 | Val acc 0.176\n",
      "Epoch  217 | Train loss 2.230 | Train acc 0.182 | Val loss 2.242 | Val acc 0.196\n",
      "Epoch  218 | Train loss 2.237 | Train acc 0.183 | Val loss 2.214 | Val acc 0.193\n",
      "Epoch  219 | Train loss 2.230 | Train acc 0.188 | Val loss 2.250 | Val acc 0.170\n",
      "Epoch  220 | Train loss 2.240 | Train acc 0.180 | Val loss 2.206 | Val acc 0.202\n",
      "Epoch  221 | Train loss 2.233 | Train acc 0.180 | Val loss 2.228 | Val acc 0.205\n",
      "Epoch  222 | Train loss 2.236 | Train acc 0.188 | Val loss 2.225 | Val acc 0.170\n",
      "Epoch  223 | Train loss 2.234 | Train acc 0.187 | Val loss 2.225 | Val acc 0.176\n",
      "Epoch  224 | Train loss 2.224 | Train acc 0.186 | Val loss 2.268 | Val acc 0.179\n",
      "Epoch  225 | Train loss 2.238 | Train acc 0.178 | Val loss 2.214 | Val acc 0.213\n",
      "Epoch  226 | Train loss 2.226 | Train acc 0.192 | Val loss 2.264 | Val acc 0.151\n",
      "Epoch  227 | Train loss 2.238 | Train acc 0.182 | Val loss 2.213 | Val acc 0.196\n",
      "Epoch  228 | Train loss 2.232 | Train acc 0.185 | Val loss 2.238 | Val acc 0.185\n",
      "Epoch  229 | Train loss 2.237 | Train acc 0.184 | Val loss 2.221 | Val acc 0.185\n",
      "Epoch  230 | Train loss 2.240 | Train acc 0.174 | Val loss 2.207 | Val acc 0.224\n",
      "Epoch  231 | Train loss 2.238 | Train acc 0.187 | Val loss 2.213 | Val acc 0.173\n",
      "Epoch  232 | Train loss 2.231 | Train acc 0.186 | Val loss 2.240 | Val acc 0.179\n",
      "Epoch  233 | Train loss 2.231 | Train acc 0.185 | Val loss 2.239 | Val acc 0.182\n",
      "Epoch  234 | Train loss 2.232 | Train acc 0.191 | Val loss 2.239 | Val acc 0.156\n",
      "Epoch  235 | Train loss 2.226 | Train acc 0.180 | Val loss 2.266 | Val acc 0.202\n",
      "Epoch  236 | Train loss 2.228 | Train acc 0.191 | Val loss 2.256 | Val acc 0.156\n",
      "Epoch  237 | Train loss 2.233 | Train acc 0.191 | Val loss 2.229 | Val acc 0.159\n",
      "Epoch  238 | Train loss 2.238 | Train acc 0.183 | Val loss 2.215 | Val acc 0.190\n",
      "Epoch  239 | Train loss 2.230 | Train acc 0.185 | Val loss 2.242 | Val acc 0.185\n",
      "Epoch  240 | Train loss 2.241 | Train acc 0.183 | Val loss 2.205 | Val acc 0.188\n",
      "Epoch  241 | Train loss 2.236 | Train acc 0.185 | Val loss 2.220 | Val acc 0.185\n",
      "Epoch  242 | Train loss 2.229 | Train acc 0.193 | Val loss 2.246 | Val acc 0.151\n",
      "Epoch  243 | Train loss 2.235 | Train acc 0.184 | Val loss 2.227 | Val acc 0.185\n",
      "Epoch  244 | Train loss 2.234 | Train acc 0.182 | Val loss 2.231 | Val acc 0.193\n",
      "Epoch  245 | Train loss 2.228 | Train acc 0.192 | Val loss 2.252 | Val acc 0.151\n",
      "Epoch  246 | Train loss 2.234 | Train acc 0.186 | Val loss 2.231 | Val acc 0.176\n",
      "Epoch  247 | Train loss 2.232 | Train acc 0.181 | Val loss 2.235 | Val acc 0.199\n",
      "Epoch  248 | Train loss 2.230 | Train acc 0.187 | Val loss 2.248 | Val acc 0.173\n",
      "Epoch  249 | Train loss 2.234 | Train acc 0.179 | Val loss 2.224 | Val acc 0.207\n",
      "Epoch  250 | Train loss 2.227 | Train acc 0.185 | Val loss 2.253 | Val acc 0.185\n",
      "Epoch  251 | Train loss 2.231 | Train acc 0.190 | Val loss 2.242 | Val acc 0.159\n",
      "Epoch  252 | Train loss 2.235 | Train acc 0.186 | Val loss 2.224 | Val acc 0.176\n",
      "Epoch  253 | Train loss 2.232 | Train acc 0.185 | Val loss 2.235 | Val acc 0.179\n",
      "Epoch  254 | Train loss 2.231 | Train acc 0.187 | Val loss 2.243 | Val acc 0.173\n",
      "Epoch  255 | Train loss 2.238 | Train acc 0.187 | Val loss 2.214 | Val acc 0.173\n",
      "Epoch  256 | Train loss 2.235 | Train acc 0.182 | Val loss 2.222 | Val acc 0.196\n",
      "Epoch  257 | Train loss 2.229 | Train acc 0.183 | Val loss 2.244 | Val acc 0.190\n",
      "Epoch  258 | Train loss 2.232 | Train acc 0.178 | Val loss 2.232 | Val acc 0.210\n",
      "Epoch  259 | Train loss 2.235 | Train acc 0.178 | Val loss 2.219 | Val acc 0.216\n",
      "Epoch  260 | Train loss 2.234 | Train acc 0.183 | Val loss 2.230 | Val acc 0.190\n",
      "Epoch  261 | Train loss 2.243 | Train acc 0.178 | Val loss 2.194 | Val acc 0.210\n",
      "Epoch  262 | Train loss 2.231 | Train acc 0.182 | Val loss 2.237 | Val acc 0.199\n",
      "Epoch  263 | Train loss 2.230 | Train acc 0.184 | Val loss 2.239 | Val acc 0.190\n",
      "Epoch  264 | Train loss 2.234 | Train acc 0.182 | Val loss 2.224 | Val acc 0.196\n",
      "Epoch  265 | Train loss 2.236 | Train acc 0.181 | Val loss 2.213 | Val acc 0.199\n",
      "Epoch  266 | Train loss 2.233 | Train acc 0.186 | Val loss 2.235 | Val acc 0.176\n",
      "Epoch  267 | Train loss 2.243 | Train acc 0.183 | Val loss 2.190 | Val acc 0.190\n",
      "Epoch  268 | Train loss 2.239 | Train acc 0.179 | Val loss 2.208 | Val acc 0.207\n",
      "Epoch  269 | Train loss 2.229 | Train acc 0.184 | Val loss 2.241 | Val acc 0.190\n",
      "Epoch  270 | Train loss 2.230 | Train acc 0.185 | Val loss 2.244 | Val acc 0.188\n",
      "Epoch  271 | Train loss 2.240 | Train acc 0.178 | Val loss 2.200 | Val acc 0.213\n",
      "Epoch  272 | Train loss 2.235 | Train acc 0.188 | Val loss 2.216 | Val acc 0.168\n",
      "Epoch  273 | Train loss 2.232 | Train acc 0.183 | Val loss 2.232 | Val acc 0.190\n",
      "Epoch  274 | Train loss 2.234 | Train acc 0.185 | Val loss 2.227 | Val acc 0.179\n",
      "Epoch  275 | Train loss 2.233 | Train acc 0.186 | Val loss 2.228 | Val acc 0.173\n",
      "Epoch  276 | Train loss 2.233 | Train acc 0.185 | Val loss 2.231 | Val acc 0.185\n",
      "Epoch  277 | Train loss 2.226 | Train acc 0.192 | Val loss 2.251 | Val acc 0.159\n",
      "Epoch  278 | Train loss 2.235 | Train acc 0.185 | Val loss 2.218 | Val acc 0.185\n",
      "Epoch  279 | Train loss 2.224 | Train acc 0.190 | Val loss 2.260 | Val acc 0.165\n",
      "Epoch  280 | Train loss 2.230 | Train acc 0.184 | Val loss 2.242 | Val acc 0.185\n",
      "Epoch  281 | Train loss 2.235 | Train acc 0.186 | Val loss 2.214 | Val acc 0.182\n",
      "Epoch  282 | Train loss 2.227 | Train acc 0.190 | Val loss 2.244 | Val acc 0.165\n",
      "Epoch  283 | Train loss 2.237 | Train acc 0.181 | Val loss 2.217 | Val acc 0.193\n",
      "Epoch  284 | Train loss 2.228 | Train acc 0.189 | Val loss 2.241 | Val acc 0.170\n",
      "Epoch  285 | Train loss 2.239 | Train acc 0.180 | Val loss 2.207 | Val acc 0.199\n",
      "Epoch  286 | Train loss 2.221 | Train acc 0.189 | Val loss 2.273 | Val acc 0.168\n",
      "Epoch  287 | Train loss 2.230 | Train acc 0.184 | Val loss 2.242 | Val acc 0.185\n",
      "Epoch  288 | Train loss 2.229 | Train acc 0.186 | Val loss 2.243 | Val acc 0.179\n",
      "Epoch  289 | Train loss 2.228 | Train acc 0.188 | Val loss 2.244 | Val acc 0.173\n",
      "Epoch  290 | Train loss 2.227 | Train acc 0.188 | Val loss 2.248 | Val acc 0.173\n",
      "Epoch  291 | Train loss 2.231 | Train acc 0.181 | Val loss 2.238 | Val acc 0.196\n",
      "Epoch  292 | Train loss 2.232 | Train acc 0.187 | Val loss 2.232 | Val acc 0.179\n",
      "Epoch  293 | Train loss 2.231 | Train acc 0.185 | Val loss 2.237 | Val acc 0.179\n",
      "Epoch  294 | Train loss 2.229 | Train acc 0.182 | Val loss 2.243 | Val acc 0.196\n",
      "Epoch  295 | Train loss 2.234 | Train acc 0.183 | Val loss 2.218 | Val acc 0.193\n",
      "Epoch  296 | Train loss 2.237 | Train acc 0.175 | Val loss 2.211 | Val acc 0.224\n",
      "Epoch  297 | Train loss 2.234 | Train acc 0.185 | Val loss 2.215 | Val acc 0.188\n",
      "Epoch  298 | Train loss 2.239 | Train acc 0.180 | Val loss 2.201 | Val acc 0.196\n",
      "Epoch  299 | Train loss 2.231 | Train acc 0.178 | Val loss 2.240 | Val acc 0.210\n"
     ]
    }
   ],
   "source": [
    "train_loss_list = []\n",
    "train_acc_list = []\n",
    "val_loss_list = []\n",
    "val_acc_list = []\n",
    "\n",
    "saver = tf.train.Saver()\n",
    "\n",
    "with tf.Session() as sess:\n",
    "    sess.run(tf.global_variables_initializer())\n",
    "    file_writer = tf.summary.FileWriter('/tmp/graphs/', sess.graph)\n",
    "    \n",
    "    if os.path.isdir('./checkpoints'):\n",
    "        saver.restore(sess, \"./checkpoints/svhn.ckpt\")\n",
    "        print('Trained model loaded!')\n",
    "    else:\n",
    "        for epoch in range(epochs):\n",
    "            train_total_loss = 0\n",
    "            train_total_acc = 0\n",
    "            val_total_loss = 0\n",
    "            val_total_acc = 0\n",
    "            for feat_train, feat_val, lab_train, lab_val in batch_creator(X_train, y_train, batch_size, val_size, flatted=True):\n",
    "                train_dict = {inputs_: feat_train,\n",
    "                              labels_: lab_train,\n",
    "                              learning_rate: learn_rate,\n",
    "                              keep_prob: keep_probability\n",
    "                             }\n",
    "                _, train_loss, train_acc = sess.run([optimizer, cost, accuracy], feed_dict = train_dict)\n",
    "                \n",
    "                val_dict = {inputs_: feat_val,\n",
    "                            labels_: lab_val,\n",
    "                            keep_prob: 1.0\n",
    "                           }\n",
    "                val_loss, val_acc = sess.run([cost, accuracy], feed_dict = val_dict)\n",
    "            output = 'Epoch {:4d} | Train loss {:.3f} | Train acc {:.3f} | Val loss {:.3f} | Val acc {:.3f}'\n",
    "            print(output.format(epoch, train_loss, train_acc, val_loss, val_acc))\n",
    "            \n",
    "        !mkdir ./checkpoints\n",
    "        saver.save(sess, \"./checkpoints/svhn.ckpt\")"
   ]
  },
  {
   "cell_type": "markdown",
   "metadata": {
    "collapsed": true
   },
   "source": [
    "## Test"
   ]
  },
  {
   "cell_type": "code",
   "execution_count": 42,
   "metadata": {},
   "outputs": [
    {
     "name": "stdout",
     "output_type": "stream",
     "text": [
      "11584\n"
     ]
    },
    {
     "data": {
      "image/png": "[encoded data removed]",
      "text/plain": [
       "<matplotlib.figure.Figure at 0x7fdcaca98a90>"
      ]
     },
     "metadata": {},
     "output_type": "display_data"
    }
   ],
   "source": [
    "sample_image = np.random.choice(test_idx)\n",
    "print(sample_image)\n",
    "display_sample_images(features, labels, 1, test_data=sample_image)"
   ]
  },
  {
   "cell_type": "code",
   "execution_count": 46,
   "metadata": {},
   "outputs": [
    {
     "name": "stdout",
     "output_type": "stream",
     "text": [
      "Predicted: [9]\n"
     ]
    }
   ],
   "source": [
    "sample_image_code = np.where(test_idx == sample_image)[0][0]\n",
    "\n",
    "with tf.Session() as sess:\n",
    "    sess.run(tf.global_variables_initializer())\n",
    "    \n",
    "    test_dict = {inputs_: X_test[sample_image_code].reshape((-1, 4096)),\n",
    "                labels_: y_test[sample_image_code].reshape((-1, 10)),\n",
    "                keep_prob: 1.0\n",
    "               }\n",
    "    prediction = sess.run(predicted, feed_dict=test_dict)\n",
    "print('Predicted: {}'.format(np.argmax(prediction, 1)))"
   ]
  },
  {
   "cell_type": "code",
   "execution_count": null,
   "metadata": {
    "collapsed": true
   },
   "outputs": [],
   "source": []
  }
 ],
 "metadata": {
  "kernelspec": {
   "display_name": "Python 2",
   "language": "python",
   "name": "python2"
  },
  "language_info": {
   "codemirror_mode": {
    "name": "ipython",
    "version": 2
   },
   "file_extension": ".py",
   "mimetype": "text/x-python",
   "name": "python",
   "nbconvert_exporter": "python",
   "pygments_lexer": "ipython2",
   "version": "2.7.13"
  },
  "widgets": {
   "state": {},
   "version": "1.1.2"
  }
 },
 "nbformat": 4,
 "nbformat_minor": 2
}
