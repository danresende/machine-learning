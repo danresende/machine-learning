{
 "cells": [
  {
   "cell_type": "markdown",
   "metadata": {},
   "source": [
    "# The Street View House Numbers (SVHN) Dataset\n",
    "\n",
    "SVHN is a real-world image dataset for developing machine learning and object recognition algorithms with minimal requirement on data preprocessing and formatting. It can be seen as similar in flavor to MNIST (e.g., the images are of small cropped digits), but incorporates an order of magnitude more labeled data (over 600,000 digit images) and comes from a significantly harder, unsolved, real world problem (recognizing digits and numbers in natural scene images). SVHN is obtained from house numbers in Google Street View images. The dataset and more information can be founded [`here`](http://ufldl.stanford.edu/housenumbers/)."
   ]
  },
  {
   "cell_type": "markdown",
   "metadata": {},
   "source": [
    "## Loading libraries"
   ]
  },
  {
   "cell_type": "code",
   "execution_count": 2,
   "metadata": {
    "collapsed": true
   },
   "outputs": [],
   "source": [
    "import os\n",
    "import time\n",
    "import pickle\n",
    "import numpy as np\n",
    "import tensorflow as tf\n",
    "from __future__ import print_function\n",
    "from tqdm import tqdm\n",
    "from urllib import urlretrieve\n",
    "from scipy.io import loadmat\n",
    "from sklearn.model_selection import train_test_split\n",
    "\n",
    "from helpers import display_sample_images, preprocess_images, one_hot_encode, batch_creator\n",
    "\n",
    "%matplotlib inline\n",
    "tf.reset_default_graph()"
   ]
  },
  {
   "cell_type": "markdown",
   "metadata": {},
   "source": [
    "## Loading VGG-16 trained model"
   ]
  },
  {
   "cell_type": "code",
   "execution_count": 3,
   "metadata": {},
   "outputs": [
    {
     "name": "stdout",
     "output_type": "stream",
     "text": [
      "Model loaded!\n"
     ]
    }
   ],
   "source": [
    "class DLProgress(tqdm):\n",
    "    last_block = 0\n",
    "\n",
    "    def hook(self, block_num=1, block_size=1, total_size=None):\n",
    "        self.total = total_size\n",
    "        self.update((block_num - self.last_block) * block_size)\n",
    "        self.last_block = block_num\n",
    "\n",
    "if not os.path.isfile('./tensorflow_vgg/vgg16.npy'):\n",
    "    with DLProgress(unit='B', unit_scale=True, miniters=1, desc='VGG16 Parameters') as pbar:\n",
    "        urlretrieve(\n",
    "            'https://s3.amazonaws.com/content.udacity-data.com/nd101/vgg16.npy',\n",
    "            './tensorflow_vgg/vgg16.npy',\n",
    "            pbar.hook)\n",
    "\n",
    "from tensorflow_vgg import vgg16\n",
    "print('Model loaded!')"
   ]
  },
  {
   "cell_type": "markdown",
   "metadata": {},
   "source": [
    "## Load the dataset"
   ]
  },
  {
   "cell_type": "code",
   "execution_count": 4,
   "metadata": {},
   "outputs": [
    {
     "name": "stdout",
     "output_type": "stream",
     "text": [
      "Data loaded!\n"
     ]
    }
   ],
   "source": [
    "if not os.path.isfile('../data/train_32x32.mat'):\n",
    "    os.mkdir('../data')\n",
    "    with DLProgress(unit='B', unit_scale=True, miniters=1, desc='SVHN Dataset') as pbar:\n",
    "        urlretrieve(\n",
    "            'http://ufldl.stanford.edu/housenumbers/train_32x32.mat',\n",
    "            '../data/train_32x32.mat',\n",
    "            pbar.hook)\n",
    "\n",
    "svhn_data = loadmat('../data/train_32x32.mat')\n",
    "print('Data loaded!')"
   ]
  },
  {
   "cell_type": "markdown",
   "metadata": {},
   "source": [
    "## Understanding the dataset"
   ]
  },
  {
   "cell_type": "code",
   "execution_count": 5,
   "metadata": {},
   "outputs": [
    {
     "name": "stdout",
     "output_type": "stream",
     "text": [
      "<type 'dict'>\n",
      "['y', 'X', '__version__', '__header__', '__globals__']\n"
     ]
    }
   ],
   "source": [
    "print(type(svhn_data))\n",
    "print(svhn_data.keys())"
   ]
  },
  {
   "cell_type": "code",
   "execution_count": 6,
   "metadata": {},
   "outputs": [
    {
     "name": "stdout",
     "output_type": "stream",
     "text": [
      "X: 73257 (32 x 32 x 3) images\n",
      "y: 73257 (1) labels\n",
      "First 30 labels: [[1 9 2 3 2 5 9 3 3 1 3 3 2 8 7 4 4 1 2 8 1 6 2 3 6 3 4 2 5 8]]\n",
      "Label Counts: {1: 13861, 2: 10585, 3: 8497, 4: 7458, 5: 6882, 6: 5727, 7: 5595, 8: 5045, 9: 4659, 10: 4948}\n"
     ]
    }
   ],
   "source": [
    "features = svhn_data['X']\n",
    "labels = svhn_data['y']\n",
    "\n",
    "print('X: {} ({} x {} x {}) images'.format(features.shape[3], features.shape[0],\n",
    "                                           features.shape[1], features.shape[2]))\n",
    "print('y: {} ({}) labels'.format(labels.shape[0], labels.shape[1]))\n",
    "print('First 30 labels: {}'.format(labels[:30].reshape((1,-1))))\n",
    "print('Label Counts: {}'.format(dict(zip(*np.unique(labels, return_counts=True)))))"
   ]
  },
  {
   "cell_type": "code",
   "execution_count": 7,
   "metadata": {},
   "outputs": [
    {
     "data": {
      "image/png": "[encoded data removed]",
      "text/plain": [
       "<matplotlib.figure.Figure at 0x10e86ab50>"
      ]
     },
     "metadata": {},
     "output_type": "display_data"
    }
   ],
   "source": [
    "display_sample_images(features, labels, 4)"
   ]
  },
  {
   "cell_type": "markdown",
   "metadata": {},
   "source": [
    "## Transfering learning (using a trained net)"
   ]
  },
  {
   "cell_type": "code",
   "execution_count": 7,
   "metadata": {
    "collapsed": true
   },
   "outputs": [],
   "source": [
    "if not os.path.isfile('./code_data.pkl'):\n",
    "    batch_size = 8\n",
    "    codes = None\n",
    "    with tf.Session() as sess:\n",
    "        vgg = vgg16.Vgg16()\n",
    "        images = tf.placeholder(tf.float32, [None, 224, 224, 3])\n",
    "        with tf.name_scope('content_vgg'):\n",
    "            vgg.build(images)\n",
    "    \n",
    "        for batch, _ in tqdm(batch_creator(features, labels, batch_size), desc='Training'):\n",
    "            processed_batch = preprocess_images(batch)\n",
    "            feed_dict = {images: processed_batch}\n",
    "            codes_batch = sess.run(vgg.relu6, feed_dict=feed_dict)\n",
    "            if codes is None:\n",
    "                codes = codes_batch\n",
    "            else:\n",
    "                codes = np.concatenate((codes, codes_batch))\n",
    "        \n",
    "    with open('./code_data.pkl', 'wb') as f:\n",
    "        pickle.dump(codes, f)"
   ]
  },
  {
   "cell_type": "markdown",
   "metadata": {},
   "source": [
    "## Preporcessing part trained data"
   ]
  },
  {
   "cell_type": "code",
   "execution_count": 8,
   "metadata": {},
   "outputs": [
    {
     "name": "stdout",
     "output_type": "stream",
     "text": [
      "(73257, 4096)\n"
     ]
    }
   ],
   "source": [
    "with open('./code_data.pkl', 'rb') as f:\n",
    "    codes = pickle.load(f)\n",
    "print(codes.shape)"
   ]
  },
  {
   "cell_type": "code",
   "execution_count": 10,
   "metadata": {},
   "outputs": [
    {
     "name": "stdout",
     "output_type": "stream",
     "text": [
      "(73257, 10)\n"
     ]
    }
   ],
   "source": [
    "one_hot_labels = one_hot_encode(labels)\n",
    "print(one_hot_labels.shape)"
   ]
  },
  {
   "cell_type": "code",
   "execution_count": null,
   "metadata": {
    "collapsed": true
   },
   "outputs": [],
   "source": [
    "train_size = 0.6\n",
    "idx = np.random.shuffle(list(range(codes.shape[0])))\n",
    "split_point = int(codes.shape[0] * train_size)\n",
    "train_idx = idx[:split_point]\n",
    "test_idx = idx[split_point:]"
   ]
  },
  {
   "cell_type": "code",
   "execution_count": 8,
   "metadata": {},
   "outputs": [
    {
     "ename": "NameError",
     "evalue": "name 'codes' is not defined",
     "output_type": "error",
     "traceback": [
      "\u001b[0;31m\u001b[0m",
      "\u001b[0;31mNameError\u001b[0mTraceback (most recent call last)",
      "\u001b[0;32m<ipython-input-8-3c1075f5f1f6>\u001b[0m in \u001b[0;36m<module>\u001b[0;34m()\u001b[0m\n\u001b[0;32m----> 1\u001b[0;31m \u001b[0mX_train\u001b[0m\u001b[0;34m,\u001b[0m \u001b[0mX_test\u001b[0m\u001b[0;34m,\u001b[0m \u001b[0my_train\u001b[0m\u001b[0;34m,\u001b[0m \u001b[0my_test\u001b[0m \u001b[0;34m=\u001b[0m \u001b[0mtrain_test_split\u001b[0m\u001b[0;34m(\u001b[0m\u001b[0mcodes\u001b[0m\u001b[0;34m,\u001b[0m \u001b[0mone_hot_labels\u001b[0m\u001b[0;34m,\u001b[0m \u001b[0mtest_size\u001b[0m\u001b[0;34m=\u001b[0m\u001b[0;36m0.4\u001b[0m\u001b[0;34m,\u001b[0m \u001b[0mrandom_state\u001b[0m\u001b[0;34m=\u001b[0m\u001b[0;36m0\u001b[0m\u001b[0;34m)\u001b[0m\u001b[0;34m\u001b[0m\u001b[0m\n\u001b[0m\u001b[1;32m      2\u001b[0m \u001b[0;34m\u001b[0m\u001b[0m\n\u001b[1;32m      3\u001b[0m \u001b[0;32mprint\u001b[0m\u001b[0;34m(\u001b[0m\u001b[0;34m'Train features: {} | Test features: {}'\u001b[0m\u001b[0;34m.\u001b[0m\u001b[0mformat\u001b[0m\u001b[0;34m(\u001b[0m\u001b[0mX_train\u001b[0m\u001b[0;34m.\u001b[0m\u001b[0mshape\u001b[0m\u001b[0;34m,\u001b[0m \u001b[0mX_test\u001b[0m\u001b[0;34m.\u001b[0m\u001b[0mshape\u001b[0m\u001b[0;34m)\u001b[0m\u001b[0;34m)\u001b[0m\u001b[0;34m\u001b[0m\u001b[0m\n\u001b[1;32m      4\u001b[0m \u001b[0;32mprint\u001b[0m\u001b[0;34m(\u001b[0m\u001b[0;34m'Train labels:   {}   | Test labels:   {}'\u001b[0m\u001b[0;34m.\u001b[0m\u001b[0mformat\u001b[0m\u001b[0;34m(\u001b[0m\u001b[0my_train\u001b[0m\u001b[0;34m.\u001b[0m\u001b[0mshape\u001b[0m\u001b[0;34m,\u001b[0m \u001b[0my_test\u001b[0m\u001b[0;34m.\u001b[0m\u001b[0mshape\u001b[0m\u001b[0;34m)\u001b[0m\u001b[0;34m)\u001b[0m\u001b[0;34m\u001b[0m\u001b[0m\n",
      "\u001b[0;31mNameError\u001b[0m: name 'codes' is not defined"
     ]
    }
   ],
   "source": [
    "X_train = codes[train_idx]\n",
    "y_train = one_hot_labels[train_idx]\n",
    "X_test = codes[test_idx]\n",
    "y_test = one_hot_labels[test_idx]\n",
    "\n",
    "print('Train features: {} | Test features: {}'.format(X_train.shape, X_test.shape))\n",
    "print('Train labels:   {}   | Test labels:   {}'.format(y_train.shape, y_test.shape))"
   ]
  },
  {
   "cell_type": "markdown",
   "metadata": {},
   "source": [
    "## Building the Neural Net"
   ]
  },
  {
   "cell_type": "code",
   "execution_count": 12,
   "metadata": {
    "collapsed": true
   },
   "outputs": [],
   "source": [
    "def fully_conn(x_tensor, num_outputs, activation=False):\n",
    "    W = tf.Variable(tf.truncated_normal([int(x_tensor.get_shape()[1]),num_outputs], stddev=0.1))\n",
    "    b = tf.Variable(tf.zeros([num_outputs]))\n",
    "    net = tf.matmul(x_tensor, W) + b\n",
    "    if activation:\n",
    "        net = tf.nn.relu(net)\n",
    "    return net"
   ]
  },
  {
   "cell_type": "code",
   "execution_count": 13,
   "metadata": {
    "collapsed": true
   },
   "outputs": [],
   "source": [
    "inputs_ = tf.placeholder(tf.float32, [None, codes.shape[1]])\n",
    "labels_ = tf.placeholder(tf.float32, [None, one_hot_labels.shape[1]])\n",
    "learning_rate = tf.placeholder(tf.float32)\n",
    "keep_prob = tf.placeholder(tf.float32)\n",
    "\n",
    "with tf.name_scope('fully_conn_content'):\n",
    "    # continues the VGG16 architecture\n",
    "    relu6 = tf.nn.relu(inputs_)\n",
    "    drop6 = tf.nn.dropout(relu6, keep_prob)\n",
    "    fc7 = fully_conn(drop6, 4096, True)\n",
    "    drop7 = tf.nn.dropout(fc7, keep_prob)\n",
    "    logits = fully_conn(drop7, one_hot_labels.shape[1])\n",
    "\n",
    "cost = tf.reduce_mean(tf.nn.softmax_cross_entropy_with_logits(logits=logits, labels=labels_), name='cost')\n",
    "\n",
    "with tf.name_scope('optimizer'):\n",
    "    optimizer = tf.train.GradientDescentOptimizer(learning_rate).minimize(cost)\n",
    "\n",
    "predicted = tf.nn.softmax(logits)\n",
    "correct_pred = tf.equal(tf.argmax(predicted, 1), tf.argmax(labels_, 1))\n",
    "accuracy = tf.reduce_mean(tf.cast(correct_pred, tf.float32))"
   ]
  },
  {
   "cell_type": "markdown",
   "metadata": {},
   "source": [
    "## Trainning the model"
   ]
  },
  {
   "cell_type": "code",
   "execution_count": 14,
   "metadata": {
    "collapsed": true
   },
   "outputs": [],
   "source": [
    "epochs = 300\n",
    "batch_size = 10240\n",
    "val_size = 0.2\n",
    "learn_rate = 0.01\n",
    "keep_probability = 0.5\n",
    "display_epoch = 10"
   ]
  },
  {
   "cell_type": "code",
   "execution_count": 16,
   "metadata": {},
   "outputs": [
    {
     "name": "stdout",
     "output_type": "stream",
     "text": [
      "Epoch   0 / 300 | Train loss 14518.985 | Val loss 14546.896\n",
      "Epoch  10 / 300 | Train loss 5.286 | Val loss 5.206\n",
      "Epoch  20 / 300 | Train loss 1.876 | Val loss 1.876\n",
      "Epoch  30 / 300 | Train loss 1.867 | Val loss 1.867\n",
      "Epoch  40 / 300 | Train loss 1.865 | Val loss 1.862\n",
      "Epoch  50 / 300 | Train loss 1.864 | Val loss 1.863\n",
      "Epoch  60 / 300 | Train loss 1.864 | Val loss 1.860\n",
      "Epoch  70 / 300 | Train loss 1.863 | Val loss 1.863\n",
      "Epoch  80 / 300 | Train loss 1.863 | Val loss 1.862\n",
      "Epoch  90 / 300 | Train loss 1.863 | Val loss 1.864\n",
      "Epoch 100 / 300 | Train loss 1.863 | Val loss 1.862\n",
      "Epoch 110 / 300 | Train loss 1.864 | Val loss 1.859\n",
      "Epoch 120 / 300 | Train loss 1.864 | Val loss 1.860\n",
      "Epoch 130 / 300 | Train loss 1.864 | Val loss 1.862\n",
      "Epoch 140 / 300 | Train loss 1.863 | Val loss 1.865\n",
      "Epoch 150 / 300 | Train loss 1.862 | Val loss 1.867\n",
      "Epoch 160 / 300 | Train loss 1.863 | Val loss 1.862\n",
      "Epoch 170 / 300 | Train loss 1.864 | Val loss 1.860\n",
      "Epoch 180 / 300 | Train loss 1.862 | Val loss 1.866\n",
      "Epoch 190 / 300 | Train loss 1.863 | Val loss 1.861\n",
      "Epoch 200 / 300 | Train loss 1.862 | Val loss 1.868\n",
      "Epoch 210 / 300 | Train loss 1.862 | Val loss 1.865\n",
      "Epoch 220 / 300 | Train loss 1.862 | Val loss 1.866\n",
      "Epoch 230 / 300 | Train loss 1.863 | Val loss 1.863\n",
      "Epoch 240 / 300 | Train loss 1.864 | Val loss 1.859\n",
      "Epoch 250 / 300 | Train loss 1.863 | Val loss 1.863\n",
      "Epoch 260 / 300 | Train loss 1.863 | Val loss 1.862\n",
      "Epoch 270 / 300 | Train loss 1.864 | Val loss 1.859\n",
      "Epoch 280 / 300 | Train loss 1.862 | Val loss 1.867\n",
      "Epoch 290 / 300 | Train loss 1.863 | Val loss 1.863\n"
     ]
    }
   ],
   "source": [
    "train_loss_list = []\n",
    "train_acc_list = []\n",
    "val_loss_list = []\n",
    "val_acc_list = []\n",
    "\n",
    "saver = tf.train.Saver()\n",
    "\n",
    "with tf.Session() as sess:\n",
    "    sess.run(tf.global_variables_initializer())\n",
    "    \n",
    "    for epoch in range(epochs):\n",
    "        i = 0\n",
    "        train_total_loss = 0\n",
    "        train_total_acc = 0\n",
    "        val_total_loss = 0\n",
    "        val_total_acc = 0\n",
    "        for feat_train, feat_val, lab_train, lab_val in batch_creator(X_train, y_train, batch_size, val_size, flatted=True):\n",
    "            train_dict = {inputs_: feat_train,\n",
    "                          labels_: lab_train,\n",
    "                          learning_rate: learn_rate,\n",
    "                          keep_prob: keep_probability\n",
    "                         }\n",
    "            sess.run(optimizer, feed_dict = train_dict)\n",
    "            train_loss, train_acc = sess.run([cost, accuracy], feed_dict = train_dict)\n",
    "            train_total_loss += train_loss\n",
    "            train_total_acc += train_acc\n",
    "            \n",
    "            val_dict = {inputs_: feat_val,\n",
    "                        labels_: lab_val,\n",
    "                        keep_prob: 1.0\n",
    "                       }\n",
    "            val_loss, val_acc = sess.run([cost, accuracy], feed_dict = val_dict)\n",
    "            val_total_loss += val_loss\n",
    "            val_total_acc += val_acc\n",
    "            \n",
    "            i += 1\n",
    "        \n",
    "        train_loss_list.append(train_total_loss / (i + 1))\n",
    "        train_acc_list.append(train_total_acc / (i + 1))\n",
    "        val_loss_list.append(val_total_loss / (i + 1))\n",
    "        val_acc_list.append(val_total_acc / (i + 1))\n",
    "        if epoch % display_epoch == 0 or epoch + 1 == epochs:\n",
    "            output = 'Epoch {:4d}/{:4d} | Train loss {:.4f} | Train acc {:.4f} | Val loss {:.4f} | Val acc {:.4f}'\n",
    "            print(output.format(epoch,\n",
    "                                epochs,\n",
    "                                train_total_loss / (i + 1),\n",
    "                                train_total_acc / (i + 1),\n",
    "                                val_total_loss / (i + 1),\n",
    "                                val_total_acc / (i + 1)\n",
    "                               ))\n",
    "            \n",
    "    \n",
    "    if not os.path.isdir('./checkpoints'):\n",
    "        !mkdir ./checkpoints\n",
    "    saver.save(sess, \"./checkpoints/svhn.ckpt\")"
   ]
  },
  {
   "cell_type": "markdown",
   "metadata": {
    "collapsed": true
   },
   "source": [
    "## Test"
   ]
  },
  {
   "cell_type": "code",
   "execution_count": 1,
   "metadata": {},
   "outputs": [
    {
     "ename": "NameError",
     "evalue": "name 'np' is not defined",
     "output_type": "error",
     "traceback": [
      "\u001b[0;31m\u001b[0m",
      "\u001b[0;31mNameError\u001b[0mTraceback (most recent call last)",
      "\u001b[0;32m<ipython-input-1-f2be89d29d3c>\u001b[0m in \u001b[0;36m<module>\u001b[0;34m()\u001b[0m\n\u001b[0;32m----> 1\u001b[0;31m \u001b[0msample_image\u001b[0m \u001b[0;34m=\u001b[0m \u001b[0mnp\u001b[0m\u001b[0;34m.\u001b[0m\u001b[0mrandom\u001b[0m\u001b[0;34m.\u001b[0m\u001b[0mrandint\u001b[0m\u001b[0;34m(\u001b[0m\u001b[0;36m0\u001b[0m\u001b[0;34m,\u001b[0m \u001b[0mhigh\u001b[0m\u001b[0;34m=\u001b[0m\u001b[0mlen\u001b[0m\u001b[0;34m(\u001b[0m\u001b[0my_test\u001b[0m\u001b[0;34m)\u001b[0m\u001b[0;34m)\u001b[0m\u001b[0;34m\u001b[0m\u001b[0m\n\u001b[0m\u001b[1;32m      2\u001b[0m \u001b[0mdisplay_sample_images\u001b[0m\u001b[0;34m(\u001b[0m\u001b[0mX_test\u001b[0m\u001b[0;34m,\u001b[0m \u001b[0my_test\u001b[0m\u001b[0;34m,\u001b[0m \u001b[0;36m4\u001b[0m\u001b[0;34m,\u001b[0m \u001b[0mtest_data\u001b[0m\u001b[0;34m=\u001b[0m\u001b[0msample_image\u001b[0m\u001b[0;34m)\u001b[0m\u001b[0;34m\u001b[0m\u001b[0m\n",
      "\u001b[0;31mNameError\u001b[0m: name 'np' is not defined"
     ]
    }
   ],
   "source": [
    "sample_image = np.random.randint(0, len(X_test))\n",
    "display_sample_images(X_test, y_test, 4, test_data=sample_image)"
   ]
  },
  {
   "cell_type": "code",
   "execution_count": null,
   "metadata": {
    "collapsed": true
   },
   "outputs": [],
   "source": [
    "with tf.Session() as sess:\n",
    "    val_dict = {inputs_: X_test[sample_image],\n",
    "                labels_: y_test[sample_image],\n",
    "                keep_prob: 1.0\n",
    "               }\n",
    "    prediction = sess.run(predicted, feed_dict=test_dict)\n",
    "print('Predicted: {:2d}'.format(np.argmax(prediction, 1) + 1))"
   ]
  }
 ],
 "metadata": {
  "kernelspec": {
   "display_name": "Python 2",
   "language": "python",
   "name": "python2"
  },
  "language_info": {
   "codemirror_mode": {
    "name": "ipython",
    "version": 2
   },
   "file_extension": ".py",
   "mimetype": "text/x-python",
   "name": "python",
   "nbconvert_exporter": "python",
   "pygments_lexer": "ipython2",
   "version": "2.7.13"
  },
  "widgets": {
   "state": {},
   "version": "1.1.2"
  }
 },
 "nbformat": 4,
 "nbformat_minor": 2
}
